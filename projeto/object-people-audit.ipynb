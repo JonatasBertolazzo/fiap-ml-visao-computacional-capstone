{
  "nbformat": 4,
  "nbformat_minor": 0,
  "metadata": {
    "kernelspec": {
      "display_name": "Python 3",
      "language": "python",
      "name": "python3"
    },
    "language_info": {
      "codemirror_mode": {
        "name": "ipython",
        "version": 3
      },
      "file_extension": ".py",
      "mimetype": "text/x-python",
      "name": "python",
      "nbconvert_exporter": "python",
      "pygments_lexer": "ipython3",
      "version": "3.6.8"
    },
    "colab": {
      "name": "object-people-audit.ipynb",
      "provenance": []
    }
  },
  "cells": [
    {
      "cell_type": "markdown",
      "metadata": {
        "id": "A3PVCnEJ45Np",
        "colab_type": "text"
      },
      "source": [
        "# MBA FIAP Inteligência Artificial & Machine Learning\n",
        "\n",
        "## Visão Computacional Capstone\n",
        "## Processamento de imagens aplicada a auditoria automática de vídeo baseada em modelos de deep-learning\n",
        "\n",
        "\n",
        "Este projeto final tem como objetivo explorar os conhecimentos adquiridos nas aulas práticas. Por meio uma trilha guiada para construir uma aplicação que tem por objetivo analisar imagens e extrair uma série de informações que serão utilizadas para compor uma análise de imagens e vídeos afim de construir uma forma de auditoria automatizada baseado em modelos de inteligência artificial.\n",
        "\n",
        "\n",
        "<p align=\"center\">\n",
        "<img src=\"https://github.com/LetticiaNicoli/fiap-ml-visao-computacional-capstone/blob/master/projeto/imagens-aux/example.png?raw=1\">\n",
        "</p>\n",
        "\n",
        "\n",
        "Este projeto poderá ser feita por grupos de até 4 pessoas.\n",
        "\n",
        "| Nome dos Integrantes     | RM            | Turma |\n",
        "| :----------------------- | :------------- | :-----: |\n",
        "| Letticia Nicoli          | RM 333658     | `6IA` |\n",
        "| Renato Ramos             | RM 333135     | `6IA` |\n",
        "| Jônatas Bertolazzo       | RM 334035     | `6IA` |\n",
        "\n",
        "Por ser um projeto guiado, fique atento quando houver as marcações **Implementação** indica que é necessário realizar alguma implementação em Python no bloco a seguir onde há a inscrição ```## IMPLEMENTAR``` e **Resposta** indica que é esperado uma resposta objetiva relacionado a algum questionamento. \n",
        "\n",
        "**Cada grupo pode utilizar nas respostas objetivas quaisquer itens necessários que enriqueçam seu ponto vista, como gráficos, fotos e, até mesmo, trechos de código-fonte.**\n",
        "\n",
        "Pode-se utilizar quantos blocos forem necessários para realizar determinadas implementações ou utilizá-las para justificar as respostas. Não é obrigatório utilizar somente o bloco indicado.\n",
        "\n",
        "Ao final não se esqueça de subir os arquivos do projeto nas contas do GitHub de cada membro, ou subir na do representante do grupo e os membros realizarem o fork do projeto.\n",
        "\n",
        "A avaliação terá mais ênfase nos seguintes tópicos de desenvolvimento do projeto:\n",
        " \n",
        "1. __Modelo de identificação de idades__\n",
        "2. __Modelo de identificação de gênero__\n",
        "3. __Extração de faces (região de interesse)__\n",
        "4. __Análise de vídeo e extração de objetos__\n",
        "5. __Conclusões Finais__\n",
        "\n",
        "Para cada item haverá uma métrica de sucesso a ser perseguida e recomendações de como atingi-la. De todo modo os grupos terão liberdade para propor abordagem _ligeiramente_ diferentes para atinger as mesmas métricas. Apenas fica vetado o uso de APIs baseadas em cloud."
      ]
    },
    {
      "cell_type": "markdown",
      "metadata": {
        "id": "wuDqxBUh45Ns",
        "colab_type": "text"
      },
      "source": [
        "> **Dúvidas**: clique [aqui](https://github.com/michelpf/fiap-ml-visao-computacional-capstone/issues/new) para perguntar e abrir uma _issue_."
      ]
    },
    {
      "cell_type": "markdown",
      "metadata": {
        "id": "w-8RwyF845Nu",
        "colab_type": "text"
      },
      "source": [
        "Requisitos mínimos para execução deste projeto:\n",
        "\n",
        "* Keras\n",
        "* Scikit-learn\n",
        "* Seaborn\n",
        "* DLib\n",
        "* OpenCv\n",
        "* Pandas\n",
        "* Numpy\n",
        "\n",
        "Para verificar se possui os pacotes obrigatórios execute os comandos abaixo de importação."
      ]
    },
    {
      "cell_type": "code",
      "metadata": {
        "id": "kCGUZGhf45Nv",
        "colab_type": "code",
        "colab": {}
      },
      "source": [
        "import numpy as np\n",
        "import matplotlib.image as mpimg\n",
        "import matplotlib.pyplot as plt\n",
        "import seaborn as sns\n",
        "import cv2\n",
        "\n",
        "#Exibição na mesma tela do Jupyter\n",
        "%matplotlib inline\n",
        "\n",
        "from os import listdir\n",
        "from os.path import isfile, join\n",
        "\n",
        "import pandas as pd\n",
        "import dlib\n",
        "\n",
        "from keras.models import Sequential, load_model\n",
        "from keras.layers.core import Dense, Dropout, Activation\n",
        "import keras\n",
        "from keras.models import Sequential, Model\n",
        "from keras.layers import Dense, Conv2D, Dropout, Flatten, MaxPooling2D, ZeroPadding2D, Convolution2D\n",
        "from keras.preprocessing import image\n",
        "\n",
        "from keras.preprocessing import image\n",
        "from keras.preprocessing.image import ImageDataGenerator\n",
        "\n",
        "import ast \n",
        "from sklearn.model_selection import train_test_split\n",
        "\n",
        "import os\n",
        "\n",
        "plt.style.use('seaborn')\n",
        "sns.set_style(\"whitegrid\", {'axes.grid' : False})"
      ],
      "execution_count": 0,
      "outputs": []
    },
    {
      "cell_type": "markdown",
      "metadata": {
        "id": "B6e8kXTL45Nz",
        "colab_type": "text"
      },
      "source": [
        "** Importante ressaltar que precisamos do OpenCV >= 3.4.2.**\n",
        "\n",
        "Execute o comando a baixo para verificar. Se obter versão menor que 3.4.2, instale a versão correta e depois prossiga com o projeto."
      ]
    },
    {
      "cell_type": "code",
      "metadata": {
        "id": "GgpEFNOz45N1",
        "colab_type": "code",
        "colab": {
          "base_uri": "https://localhost:8080/",
          "height": 34
        },
        "outputId": "b5050017-0f59-42b1-a743-d159d6ef9f05"
      },
      "source": [
        "print(cv2.__version__)"
      ],
      "execution_count": 16,
      "outputs": [
        {
          "output_type": "stream",
          "text": [
            "4.1.2\n"
          ],
          "name": "stdout"
        }
      ]
    },
    {
      "cell_type": "markdown",
      "metadata": {
        "id": "af3PY6QF45N4",
        "colab_type": "text"
      },
      "source": [
        "## 1. O problema\n",
        "\n",
        "Atualmente, com a tecnologia disponível e acessível, sobretudo na obtenção de imagens e vídeos e em seu processamento, permite apoiar com mais ênfase atividades de auditoria e investigação de forma automatizada, sem a necessidade de uma pessoa realizar tais análises e ainda com maior acurácia.\n",
        "\n",
        "O uso de tecnologias relacionadas a visão computacional pode contribuir para tornar mais eficiente investigações de pessoas e objetos baseadas em suas características e em seu perfil, além de tornar esta atividade mais rápida e completa.\n",
        "\n",
        "A proposta deste projeto é apoiar uma aplicação de auditoria e investigação para automatizar a busca por regiões de interesse (objetos e determinadas pessoas) com as seguintes finalidades:\n",
        "\n",
        "* Encontrar pessoas do gênero masculino com mais de 45 anos de idade\n",
        "* Encontrar pessoas do gênero femimino com menos de 45 anos de idade\n",
        "* Encontrar objetos relacionados a informática, como computadores e telefones\n",
        "\n",
        "Uma busca manual em vídeos de vigilância é bem onerosa e pode deixar passar evidências importantes em processos investigativos.\n",
        "\n",
        "Ainda assim, a análise humana é realizada em último caso para decidir, se dentre as evidências coletadas, quais devem seguir para investigação mais apurada e quais não. A tarefa humana é mais de validação do que exploração.\n",
        "\n",
        "Para alcançar este objetivo iremos construir uma aplicação capaz de analisar um vídeo específico de um escritórioo, baseado na série de TV [_The Office_](https://pt.wikipedia.org/wiki/The_Office). A partir dele e de modelos de classificação de imagens, iremos coletar e armazenar imagens das regiões de interesse citadas para posterior análise de investigações.\n",
        "\n",
        "Deste modo, conforme já apresentado, seguiremos com o seguinte roteiro:\n",
        "\n",
        "* Desenvolver e construir um classificador de idade\n",
        "* Desenvolver e construir um classificador de gênero\n",
        "* Eleger a melhor forma de segmentar uma imagem de face\n",
        "* Configurar um modelo de detecção de objetos\n",
        "* Analisar um vídeo e extrair as regiões de interesse\n",
        "\n",
        "Por fim, deverá se realizado uma conclusão deste estudo, apresentando como foi a realização deste processo, pontos de acerto, pontos de melhoria e como poderia ser feito para aperfeiçoar os resultados."
      ]
    },
    {
      "cell_type": "markdown",
      "metadata": {
        "id": "D_ORapcy45N5",
        "colab_type": "text"
      },
      "source": [
        "## 2. Construção de modelos em redes neurais profundas\n",
        "\n",
        "Nesta primeira parte, iremos construir um modelo baseado em redes neurais profundas (_deep learning_) capaz de identificar, a partir de uma imagem, qual é a idade da pessoa.\n",
        "\n",
        "Este tipo de classificador requer um mapeamento mais profundo de cada imagem além de ser necessário um número considerável de imagens para cada idade ou faixa de idade.\n",
        "\n",
        "Devido a necessidade de um número alto de imagens, vamos utilizar o dataset [IMDB-WIKI – 500k+ face images with age and gender labels](https://data.vision.ee.ethz.ch/cvl/rrothe/imdb-wiki) que foi utilizado no desafio _DEX: Deep EXpectation of apparent age from a single image_.\n",
        "\n",
        "Também foi utilizado dois excelentes artigos de Sefik Ilkin Serengil, que podem ser acessados [aqui](https://sefiks.com/2019/02/13/apparent-age-and-gender-prediction-in-keras) e [aqui](https://sefiks.com/2018/08/06/deep-face-recognition-with-keras). Esses artigos demonstram a aplicação do VGGFace para as tarefas de reconhecimento de idade e gênero. Artigos que foram ligeiramente adaptados e utilizados para o desafio.\n",
        "\n",
        "As imagens estão disponíveis na pasta ```imagens```.\n",
        "\n",
        "O arquivo ```age-faces-dataset.csv```, na pasta ```csv``` possui a relação de cada sujeito, contendo sua idade, localização da face, idade e referência da imagem, gênero, dentre outros campos. Com esta referência é possível associar determinado sujeito com sua face.\n",
        "\n",
        "No conjunto de dados, a representação do gênero masculino é codificada com o valor *1* e o gênero feminino com o valor *0*."
      ]
    },
    {
      "cell_type": "markdown",
      "metadata": {
        "id": "4Yxcf4mA45N6",
        "colab_type": "text"
      },
      "source": [
        "Abra o conjunto de dados utilizando o _Pandas_. Utilize o método ```read_csv```."
      ]
    },
    {
      "cell_type": "code",
      "metadata": {
        "id": "-mM0ubft45N7",
        "colab_type": "code",
        "colab": {}
      },
      "source": [
        "# IMPLEMENTAR\n",
        "df = pd.read_csv('https://raw.githubusercontent.com/LetticiaNicoli/fiap-ml-visao-computacional-capstone/master/projeto/csv/age-faces-dataset.csv')"
      ],
      "execution_count": 0,
      "outputs": []
    },
    {
      "cell_type": "markdown",
      "metadata": {
        "id": "D3RJ7IZU45N_",
        "colab_type": "text"
      },
      "source": [
        "Execute o comando abaixo para apresentação de uma amostra do conjunto de dados."
      ]
    },
    {
      "cell_type": "code",
      "metadata": {
        "id": "B0KGMACA45OA",
        "colab_type": "code",
        "colab": {
          "base_uri": "https://localhost:8080/",
          "height": 289
        },
        "outputId": "bec88aa8-3868-444e-b3f4-720c5c2e2793"
      },
      "source": [
        "df.head()"
      ],
      "execution_count": 19,
      "outputs": [
        {
          "output_type": "execute_result",
          "data": {
            "text/html": [
              "<div>\n",
              "<style scoped>\n",
              "    .dataframe tbody tr th:only-of-type {\n",
              "        vertical-align: middle;\n",
              "    }\n",
              "\n",
              "    .dataframe tbody tr th {\n",
              "        vertical-align: top;\n",
              "    }\n",
              "\n",
              "    .dataframe thead th {\n",
              "        text-align: right;\n",
              "    }\n",
              "</style>\n",
              "<table border=\"1\" class=\"dataframe\">\n",
              "  <thead>\n",
              "    <tr style=\"text-align: right;\">\n",
              "      <th></th>\n",
              "      <th>Unnamed: 0</th>\n",
              "      <th>dob</th>\n",
              "      <th>photo_taken</th>\n",
              "      <th>full_path</th>\n",
              "      <th>gender</th>\n",
              "      <th>name</th>\n",
              "      <th>face_location</th>\n",
              "      <th>face_score</th>\n",
              "      <th>second_face_score</th>\n",
              "      <th>date_of_birth</th>\n",
              "      <th>age</th>\n",
              "    </tr>\n",
              "  </thead>\n",
              "  <tbody>\n",
              "    <tr>\n",
              "      <th>0</th>\n",
              "      <td>0</td>\n",
              "      <td>723671</td>\n",
              "      <td>2009</td>\n",
              "      <td>['17/10000217_1981-05-05_2009.jpg']</td>\n",
              "      <td>1.0</td>\n",
              "      <td>['Sami Jauhojärvi']</td>\n",
              "      <td>[[111.29109473 111.29109473 252.66993082 252.6...</td>\n",
              "      <td>4.300962</td>\n",
              "      <td>NaN</td>\n",
              "      <td>1981</td>\n",
              "      <td>28</td>\n",
              "    </tr>\n",
              "    <tr>\n",
              "      <th>1</th>\n",
              "      <td>2</td>\n",
              "      <td>711677</td>\n",
              "      <td>2008</td>\n",
              "      <td>['12/100012_1948-07-03_2008.jpg']</td>\n",
              "      <td>1.0</td>\n",
              "      <td>['Marc Okrand']</td>\n",
              "      <td>[[113.52 169.84 366.08 422.4 ]]</td>\n",
              "      <td>4.329329</td>\n",
              "      <td>NaN</td>\n",
              "      <td>1948</td>\n",
              "      <td>60</td>\n",
              "    </tr>\n",
              "    <tr>\n",
              "      <th>2</th>\n",
              "      <td>4</td>\n",
              "      <td>720044</td>\n",
              "      <td>2012</td>\n",
              "      <td>['16/10002116_1971-05-31_2012.jpg']</td>\n",
              "      <td>0.0</td>\n",
              "      <td>['Diana Damrau']</td>\n",
              "      <td>[[171.61031405  75.5745124  266.76611571 170.7...</td>\n",
              "      <td>3.408442</td>\n",
              "      <td>NaN</td>\n",
              "      <td>1971</td>\n",
              "      <td>41</td>\n",
              "    </tr>\n",
              "    <tr>\n",
              "      <th>3</th>\n",
              "      <td>5</td>\n",
              "      <td>716189</td>\n",
              "      <td>2012</td>\n",
              "      <td>['02/10002702_1960-11-09_2012.jpg']</td>\n",
              "      <td>0.0</td>\n",
              "      <td>['Krista Tippett']</td>\n",
              "      <td>[[274.7656324   57.77009008 376.88699455 159.8...</td>\n",
              "      <td>4.748056</td>\n",
              "      <td>NaN</td>\n",
              "      <td>1960</td>\n",
              "      <td>52</td>\n",
              "    </tr>\n",
              "    <tr>\n",
              "      <th>4</th>\n",
              "      <td>6</td>\n",
              "      <td>707745</td>\n",
              "      <td>1971</td>\n",
              "      <td>['41/10003541_1937-09-27_1971.jpg']</td>\n",
              "      <td>1.0</td>\n",
              "      <td>['Bernie Whitebear']</td>\n",
              "      <td>[[ 79.35580189  26.65993396 197.60950472 144.9...</td>\n",
              "      <td>4.184828</td>\n",
              "      <td>NaN</td>\n",
              "      <td>1937</td>\n",
              "      <td>34</td>\n",
              "    </tr>\n",
              "  </tbody>\n",
              "</table>\n",
              "</div>"
            ],
            "text/plain": [
              "   Unnamed: 0     dob  photo_taken  ... second_face_score  date_of_birth age\n",
              "0           0  723671         2009  ...               NaN           1981  28\n",
              "1           2  711677         2008  ...               NaN           1948  60\n",
              "2           4  720044         2012  ...               NaN           1971  41\n",
              "3           5  716189         2012  ...               NaN           1960  52\n",
              "4           6  707745         1971  ...               NaN           1937  34\n",
              "\n",
              "[5 rows x 11 columns]"
            ]
          },
          "metadata": {
            "tags": []
          },
          "execution_count": 19
        }
      ]
    },
    {
      "cell_type": "markdown",
      "metadata": {
        "id": "B4dtQWHI45OE",
        "colab_type": "text"
      },
      "source": [
        "### 2.1 Modelo de predição de idade\n",
        "\n",
        "Antes de começarmos, avalie o conjunto de dados _Pandas_ e verifique se existe alguma otimização.\n",
        "Sugerimos verificar e filtrar somente sujeitos com idade maior do que 0 e menor do que 100.\n",
        "\n",
        "Analise o histograma e investigue com filtros do _Pandas_ para avaliar se existe necessidade de realização de algum _data cleasing_ no dataset, de acordo com a sugestão pedida.\n",
        "\n",
        "Havendo necessidade de _data cleasing_ realize os devidos ajustes."
      ]
    },
    {
      "cell_type": "markdown",
      "metadata": {
        "id": "xaJ13Bi445OE",
        "colab_type": "text"
      },
      "source": [
        "Vamos investigar a distribuição de idades pelo histograma.\n",
        "Execute o comando abaixo."
      ]
    },
    {
      "cell_type": "code",
      "metadata": {
        "id": "-wqW8GUS45OF",
        "colab_type": "code",
        "colab": {
          "base_uri": "https://localhost:8080/",
          "height": 347
        },
        "outputId": "66d5234f-9293-4daf-8bad-833942d40f61"
      },
      "source": [
        "histograma_idade = df['age'].hist(bins=df['age'].nunique())"
      ],
      "execution_count": 20,
      "outputs": [
        {
          "output_type": "display_data",
          "data": {
            "image/png": "[encoded data removed]",
            "text/plain": [
              "<Figure size 576x396 with 1 Axes>"
            ]
          },
          "metadata": {
            "tags": []
          }
        }
      ]
    },
    {
      "cell_type": "markdown",
      "metadata": {
        "id": "RxUWTDRX45OI",
        "colab_type": "text"
      },
      "source": [
        "De acordo com os dados de idade, vamos buscar a existência de idades inválidas.\n",
        "A começar com idades menores do que 0."
      ]
    },
    {
      "cell_type": "code",
      "metadata": {
        "id": "LO0E2l6O45OJ",
        "colab_type": "code",
        "colab": {
          "base_uri": "https://localhost:8080/",
          "height": 114
        },
        "outputId": "22752005-1dd2-419e-eafa-f12fc4d06aa4"
      },
      "source": [
        "df[df['age'] < 0]"
      ],
      "execution_count": 22,
      "outputs": [
        {
          "output_type": "execute_result",
          "data": {
            "text/html": [
              "<div>\n",
              "<style scoped>\n",
              "    .dataframe tbody tr th:only-of-type {\n",
              "        vertical-align: middle;\n",
              "    }\n",
              "\n",
              "    .dataframe tbody tr th {\n",
              "        vertical-align: top;\n",
              "    }\n",
              "\n",
              "    .dataframe thead th {\n",
              "        text-align: right;\n",
              "    }\n",
              "</style>\n",
              "<table border=\"1\" class=\"dataframe\">\n",
              "  <thead>\n",
              "    <tr style=\"text-align: right;\">\n",
              "      <th></th>\n",
              "      <th>Unnamed: 0</th>\n",
              "      <th>dob</th>\n",
              "      <th>photo_taken</th>\n",
              "      <th>full_path</th>\n",
              "      <th>gender</th>\n",
              "      <th>name</th>\n",
              "      <th>face_location</th>\n",
              "      <th>face_score</th>\n",
              "      <th>second_face_score</th>\n",
              "      <th>date_of_birth</th>\n",
              "      <th>age</th>\n",
              "    </tr>\n",
              "  </thead>\n",
              "  <tbody>\n",
              "    <tr>\n",
              "      <th>16538</th>\n",
              "      <td>46820</td>\n",
              "      <td>715674</td>\n",
              "      <td>1952</td>\n",
              "      <td>['78/1479178_1959-06-13_1952.jpg']</td>\n",
              "      <td>0.0</td>\n",
              "      <td>['Mairead McGuinness']</td>\n",
              "      <td>[[101.25678948  39.52919591 151.51318422  89.7...</td>\n",
              "      <td>3.268928</td>\n",
              "      <td>NaN</td>\n",
              "      <td>1959</td>\n",
              "      <td>-7</td>\n",
              "    </tr>\n",
              "  </tbody>\n",
              "</table>\n",
              "</div>"
            ],
            "text/plain": [
              "       Unnamed: 0     dob  photo_taken  ... second_face_score  date_of_birth age\n",
              "16538       46820  715674         1952  ...               NaN           1959  -7\n",
              "\n",
              "[1 rows x 11 columns]"
            ]
          },
          "metadata": {
            "tags": []
          },
          "execution_count": 22
        }
      ]
    },
    {
      "cell_type": "markdown",
      "metadata": {
        "id": "OZW42rF745ON",
        "colab_type": "text"
      },
      "source": [
        "Agora idades maiores do que 100."
      ]
    },
    {
      "cell_type": "code",
      "metadata": {
        "id": "8HNqC-BI45OR",
        "colab_type": "code",
        "colab": {
          "base_uri": "https://localhost:8080/",
          "height": 738
        },
        "outputId": "1c7e29ce-8ea9-4d42-9cec-b62104e946eb"
      },
      "source": [
        "df[df['age'] > 100]"
      ],
      "execution_count": 21,
      "outputs": [
        {
          "output_type": "execute_result",
          "data": {
            "text/html": [
              "<div>\n",
              "<style scoped>\n",
              "    .dataframe tbody tr th:only-of-type {\n",
              "        vertical-align: middle;\n",
              "    }\n",
              "\n",
              "    .dataframe tbody tr th {\n",
              "        vertical-align: top;\n",
              "    }\n",
              "\n",
              "    .dataframe thead th {\n",
              "        text-align: right;\n",
              "    }\n",
              "</style>\n",
              "<table border=\"1\" class=\"dataframe\">\n",
              "  <thead>\n",
              "    <tr style=\"text-align: right;\">\n",
              "      <th></th>\n",
              "      <th>Unnamed: 0</th>\n",
              "      <th>dob</th>\n",
              "      <th>photo_taken</th>\n",
              "      <th>full_path</th>\n",
              "      <th>gender</th>\n",
              "      <th>name</th>\n",
              "      <th>face_location</th>\n",
              "      <th>face_score</th>\n",
              "      <th>second_face_score</th>\n",
              "      <th>date_of_birth</th>\n",
              "      <th>age</th>\n",
              "    </tr>\n",
              "  </thead>\n",
              "  <tbody>\n",
              "    <tr>\n",
              "      <th>305</th>\n",
              "      <td>917</td>\n",
              "      <td>677949</td>\n",
              "      <td>1960</td>\n",
              "      <td>['31/21048131_1856-02-28_1960.jpg']</td>\n",
              "      <td>1.0</td>\n",
              "      <td>['Joachim, 5th Prince Murat']</td>\n",
              "      <td>[[166.87627388  98.96870729 233.90384046 165.9...</td>\n",
              "      <td>3.848311</td>\n",
              "      <td>NaN</td>\n",
              "      <td>1856</td>\n",
              "      <td>104</td>\n",
              "    </tr>\n",
              "    <tr>\n",
              "      <th>1658</th>\n",
              "      <td>4533</td>\n",
              "      <td>679576</td>\n",
              "      <td>1963</td>\n",
              "      <td>['10/6603110_1860-08-12_1963.jpg']</td>\n",
              "      <td>1.0</td>\n",
              "      <td>['Temple Lea Houston']</td>\n",
              "      <td>[[141.68  85.36 267.52 211.2 ]]</td>\n",
              "      <td>3.530178</td>\n",
              "      <td>NaN</td>\n",
              "      <td>1860</td>\n",
              "      <td>103</td>\n",
              "    </tr>\n",
              "    <tr>\n",
              "      <th>3282</th>\n",
              "      <td>9040</td>\n",
              "      <td>696641</td>\n",
              "      <td>2008</td>\n",
              "      <td>['15/24127215_1907-05-04_2008.jpg']</td>\n",
              "      <td>1.0</td>\n",
              "      <td>['Walter Walsh']</td>\n",
              "      <td>[[ 79.46726146  79.46726146 220.68833208 220.6...</td>\n",
              "      <td>3.446329</td>\n",
              "      <td>NaN</td>\n",
              "      <td>1907</td>\n",
              "      <td>101</td>\n",
              "    </tr>\n",
              "    <tr>\n",
              "      <th>7019</th>\n",
              "      <td>19680</td>\n",
              "      <td>636872</td>\n",
              "      <td>2012</td>\n",
              "      <td>['69/3139869_1743-09-11_2012.jpg']</td>\n",
              "      <td>0.0</td>\n",
              "      <td>['Sarah Franklin Bache']</td>\n",
              "      <td>[[156.80266094 123.37351931 256.29008583 222.8...</td>\n",
              "      <td>4.523645</td>\n",
              "      <td>NaN</td>\n",
              "      <td>1743</td>\n",
              "      <td>269</td>\n",
              "    </tr>\n",
              "    <tr>\n",
              "      <th>7124</th>\n",
              "      <td>19951</td>\n",
              "      <td>693780</td>\n",
              "      <td>2013</td>\n",
              "      <td>['50/913950_1899-07-03_2013.jpg']</td>\n",
              "      <td>1.0</td>\n",
              "      <td>['Ludwig Guttmann']</td>\n",
              "      <td>[[123.45351931  98.93881545 343.20585407 318.6...</td>\n",
              "      <td>4.481955</td>\n",
              "      <td>NaN</td>\n",
              "      <td>1899</td>\n",
              "      <td>114</td>\n",
              "    </tr>\n",
              "    <tr>\n",
              "      <th>7520</th>\n",
              "      <td>21139</td>\n",
              "      <td>694318</td>\n",
              "      <td>2011</td>\n",
              "      <td>['29/43349929_1900-12-23_2011.jpg']</td>\n",
              "      <td>0.0</td>\n",
              "      <td>['Merle Barwis']</td>\n",
              "      <td>[[ 56.92748431 141.09171078 308.60216371 392.7...</td>\n",
              "      <td>3.436324</td>\n",
              "      <td>NaN</td>\n",
              "      <td>1900</td>\n",
              "      <td>111</td>\n",
              "    </tr>\n",
              "    <tr>\n",
              "      <th>7607</th>\n",
              "      <td>21361</td>\n",
              "      <td>696659</td>\n",
              "      <td>2011</td>\n",
              "      <td>['17/14317_1907-05-22_2011.jpg']</td>\n",
              "      <td>1.0</td>\n",
              "      <td>['Hergé']</td>\n",
              "      <td>[[ 65.79  24.99 138.72  97.92]]</td>\n",
              "      <td>4.267502</td>\n",
              "      <td>NaN</td>\n",
              "      <td>1907</td>\n",
              "      <td>104</td>\n",
              "    </tr>\n",
              "    <tr>\n",
              "      <th>7894</th>\n",
              "      <td>22151</td>\n",
              "      <td>642953</td>\n",
              "      <td>1945</td>\n",
              "      <td>['68/25377668_1760-05-05_1945.jpg']</td>\n",
              "      <td>0.0</td>\n",
              "      <td>['Sophie Charlotte Elisabeth Ursinus']</td>\n",
              "      <td>[[155.76  99.44 281.6  225.28]]</td>\n",
              "      <td>3.199015</td>\n",
              "      <td>NaN</td>\n",
              "      <td>1760</td>\n",
              "      <td>185</td>\n",
              "    </tr>\n",
              "    <tr>\n",
              "      <th>11725</th>\n",
              "      <td>32956</td>\n",
              "      <td>688477</td>\n",
              "      <td>2004</td>\n",
              "      <td>['03/225603_1884-12-25_2004.jpg']</td>\n",
              "      <td>0.0</td>\n",
              "      <td>['Evelyn Nesbit']</td>\n",
              "      <td>[[141.68  57.2  267.52 183.04]]</td>\n",
              "      <td>3.485172</td>\n",
              "      <td>NaN</td>\n",
              "      <td>1884</td>\n",
              "      <td>120</td>\n",
              "    </tr>\n",
              "    <tr>\n",
              "      <th>13955</th>\n",
              "      <td>39420</td>\n",
              "      <td>693822</td>\n",
              "      <td>2009</td>\n",
              "      <td>['75/32659275_1899-08-14_2009.jpg']</td>\n",
              "      <td>0.0</td>\n",
              "      <td>['Evelyn Kozak']</td>\n",
              "      <td>[[160.65966942 102.45615327 225.5386251  167.3...</td>\n",
              "      <td>3.562741</td>\n",
              "      <td>NaN</td>\n",
              "      <td>1899</td>\n",
              "      <td>110</td>\n",
              "    </tr>\n",
              "    <tr>\n",
              "      <th>16220</th>\n",
              "      <td>45990</td>\n",
              "      <td>692787</td>\n",
              "      <td>2007</td>\n",
              "      <td>['90/9271090_1896-10-13_2007.jpg']</td>\n",
              "      <td>0.0</td>\n",
              "      <td>['List of supercentenarians from the United St...</td>\n",
              "      <td>[[122.78805179  68.48225099 183.28207768 128.9...</td>\n",
              "      <td>3.104757</td>\n",
              "      <td>NaN</td>\n",
              "      <td>1896</td>\n",
              "      <td>111</td>\n",
              "    </tr>\n",
              "    <tr>\n",
              "      <th>18464</th>\n",
              "      <td>52282</td>\n",
              "      <td>689607</td>\n",
              "      <td>1990</td>\n",
              "      <td>['06/42881906_1888-01-29_1990.jpg']</td>\n",
              "      <td>1.0</td>\n",
              "      <td>['Esau Khamati Oriedo']</td>\n",
              "      <td>[[105.97683617  79.70262713 341.56471754 315.2...</td>\n",
              "      <td>3.226602</td>\n",
              "      <td>NaN</td>\n",
              "      <td>1888</td>\n",
              "      <td>102</td>\n",
              "    </tr>\n",
              "    <tr>\n",
              "      <th>21478</th>\n",
              "      <td>60480</td>\n",
              "      <td>694718</td>\n",
              "      <td>2004</td>\n",
              "      <td>['95/36922695_1902-01-27_2004.jpg']</td>\n",
              "      <td>1.0</td>\n",
              "      <td>['Carl Berner']</td>\n",
              "      <td>[[296.89992692  59.84078538 385.221105   148.1...</td>\n",
              "      <td>3.751132</td>\n",
              "      <td>NaN</td>\n",
              "      <td>1902</td>\n",
              "      <td>102</td>\n",
              "    </tr>\n",
              "    <tr>\n",
              "      <th>21951</th>\n",
              "      <td>61818</td>\n",
              "      <td>658516</td>\n",
              "      <td>2012</td>\n",
              "      <td>['12/98912_1802-12-15_2012.jpg']</td>\n",
              "      <td>1.0</td>\n",
              "      <td>['János Bolyai']</td>\n",
              "      <td>[[ 37.0038672  145.61546879 362.03867197 470.6...</td>\n",
              "      <td>4.042361</td>\n",
              "      <td>NaN</td>\n",
              "      <td>1802</td>\n",
              "      <td>210</td>\n",
              "    </tr>\n",
              "  </tbody>\n",
              "</table>\n",
              "</div>"
            ],
            "text/plain": [
              "       Unnamed: 0     dob  photo_taken  ... second_face_score  date_of_birth  age\n",
              "305           917  677949         1960  ...               NaN           1856  104\n",
              "1658         4533  679576         1963  ...               NaN           1860  103\n",
              "3282         9040  696641         2008  ...               NaN           1907  101\n",
              "7019        19680  636872         2012  ...               NaN           1743  269\n",
              "7124        19951  693780         2013  ...               NaN           1899  114\n",
              "7520        21139  694318         2011  ...               NaN           1900  111\n",
              "7607        21361  696659         2011  ...               NaN           1907  104\n",
              "7894        22151  642953         1945  ...               NaN           1760  185\n",
              "11725       32956  688477         2004  ...               NaN           1884  120\n",
              "13955       39420  693822         2009  ...               NaN           1899  110\n",
              "16220       45990  692787         2007  ...               NaN           1896  111\n",
              "18464       52282  689607         1990  ...               NaN           1888  102\n",
              "21478       60480  694718         2004  ...               NaN           1902  102\n",
              "21951       61818  658516         2012  ...               NaN           1802  210\n",
              "\n",
              "[14 rows x 11 columns]"
            ]
          },
          "metadata": {
            "tags": []
          },
          "execution_count": 21
        }
      ]
    },
    {
      "cell_type": "markdown",
      "metadata": {
        "id": "5TIQn17h45OU",
        "colab_type": "text"
      },
      "source": [
        "Diante dos dados apresentados, realize a limpeza dos registros com idades inválidas ou de não interesse do projeto.\n",
        "Para realizar a limpeza utilize da seguinte forma:\n",
        "\n",
        "```python\n",
        "df = df[df['age'] <= idade_limite_superior]\n",
        "df = df[df['age'] > idade_limite_inferior]\n",
        "```"
      ]
    },
    {
      "cell_type": "markdown",
      "metadata": {
        "id": "ZjB9BJen45OV",
        "colab_type": "text"
      },
      "source": [
        "Agora implemente a limpeza dos dados."
      ]
    },
    {
      "cell_type": "code",
      "metadata": {
        "id": "MmyRURLd45OV",
        "colab_type": "code",
        "colab": {}
      },
      "source": [
        "# IMPLEMENTAR\n",
        "idade_limite_inferior = 0\n",
        "idade_limite_superior = 100\n",
        "\n",
        "df = df[df['age'] < idade_limite_superior]\n",
        "df = df[df['age'] > idade_limite_inferior]"
      ],
      "execution_count": 0,
      "outputs": []
    },
    {
      "cell_type": "markdown",
      "metadata": {
        "id": "ragUwQQB45OY",
        "colab_type": "text"
      },
      "source": [
        "Vamos executar novamente os comandos abaixo para ter certeza que os dados foram limpos."
      ]
    },
    {
      "cell_type": "code",
      "metadata": {
        "id": "VE9kja8e45OZ",
        "colab_type": "code",
        "colab": {
          "base_uri": "https://localhost:8080/",
          "height": 34
        },
        "outputId": "4ba66e62-07ba-425b-9161-7c947ce3faa5"
      },
      "source": [
        "len(df[df['age'] > 100]), len(df[df['age'] < 0])"
      ],
      "execution_count": 24,
      "outputs": [
        {
          "output_type": "execute_result",
          "data": {
            "text/plain": [
              "(0, 0)"
            ]
          },
          "metadata": {
            "tags": []
          },
          "execution_count": 24
        }
      ]
    },
    {
      "cell_type": "markdown",
      "metadata": {
        "id": "lpoJTR6a45Oc",
        "colab_type": "text"
      },
      "source": [
        "Se o resultado obtido foi 0 para ambos os filtros (exemplo (0,0)) signfica que estamos prontos para avançar."
      ]
    },
    {
      "cell_type": "markdown",
      "metadata": {
        "id": "GMpS3ak145Od",
        "colab_type": "text"
      },
      "source": [
        "### 2.2 Transfer learning\n",
        "\n",
        "A técnica de _transfer learning_ é particularmente útil ao combinar modelos já validados em aplicações mais robustas, resultado de competições de grande porte.\n",
        "\n",
        "Um benchmark nesse campo aplicado a faces é o [VGGFace](http://www.robots.ox.ac.uk/~vgg/data/vgg_face) do grupo *VGG*, o Visual Geometry Group da Univerdade de Oxford.\n",
        "\n",
        "A arquitetura proposta pelo VGGFace é capaz de classificar faces com precisão acima de 90% em alguns trabalhos, como por exemplo [Zhang, Lingfeng & Kakadiaris, Ioannis. (2017). Local classifier chains for deep face recognition. 158-167](https://www.researchgate.net/publication/322872468_Local_classifier_chains_for_deep_face_recognition).\n",
        "\n",
        "Este modelo tem a seguinte arquitetura.\n",
        "\n",
        "<p align=\"center\">\n",
        "<img src=\"https://github.com/LetticiaNicoli/fiap-ml-visao-computacional-capstone/blob/master/projeto/imagens-aux/vgg-face-architecture.jpg?raw=1\">\n",
        "</p>\n",
        "\n",
        "Observando a primeira camada, precisamos portanto padronizar as imagens de treinamento no tamanho 224 x 224 (comprimento x largura).\n",
        "\n",
        "Os grupos que decidirem criar modelos alternativos devem explicar qual arquitetura utiliza e seus motivadores."
      ]
    },
    {
      "cell_type": "markdown",
      "metadata": {
        "id": "CSUWf4Ey45Oe",
        "colab_type": "text"
      },
      "source": [
        "### 2.3 Padronização de imagens\n",
        "\n",
        "O algoritmo abaixo normaliza as imagens para o tamanho de entrada do modelo VGGFace e também converte o valor em intenside de pixel de 0 a 255 para 0 a 1, com valores em pontos flutuantes.\n",
        "\n",
        "Valores em ponto flutuante são melhores para se trabalhar com convergência de modelos durante os cálculos entre as camadas das redes neurais."
      ]
    },
    {
      "cell_type": "code",
      "metadata": {
        "id": "bLhPUrmD45Of",
        "colab_type": "code",
        "colab": {}
      },
      "source": [
        "tamanho_imagem = (224, 224)\n",
        "faces = []\n",
        "\n",
        "for index, row in df.iterrows():\n",
        "    image_face = image.load_img(\"imagens/%s\" % ast.literal_eval(row[\"full_path\"])[0], grayscale=False, target_size=tamanho_imagem)\n",
        "    image_array = image.img_to_array(image_face).reshape(1, -1)[0]\n",
        "    image_array /= 255\n",
        "    faces.append(image_array)"
      ],
      "execution_count": 0,
      "outputs": []
    },
    {
      "cell_type": "markdown",
      "metadata": {
        "id": "Aik_2Exc45Oi",
        "colab_type": "text"
      },
      "source": [
        "Verifique a quantidade de imagens de faces obtidas pelo conjunto de dados."
      ]
    },
    {
      "cell_type": "code",
      "metadata": {
        "id": "euDYZCG645Oj",
        "colab_type": "code",
        "colab": {}
      },
      "source": [
        "# IMPLEMENTAR\n",
        "qtd_faces = None"
      ],
      "execution_count": 0,
      "outputs": []
    },
    {
      "cell_type": "code",
      "metadata": {
        "id": "A8PVWbj645Ol",
        "colab_type": "code",
        "colab": {}
      },
      "source": [
        "print(\"O total de faces de imagens é de \" + str(qtd_faces) + \".\")"
      ],
      "execution_count": 0,
      "outputs": []
    },
    {
      "cell_type": "markdown",
      "metadata": {
        "id": "afHavTlO45Oo",
        "colab_type": "text"
      },
      "source": [
        "### 2.4 Definição do modelo\n",
        "\n",
        "O próximo passo é a definição do número de classes. Como a definição de classes é _zero based_ sempre defina adicionando 1 ao valor final.\n",
        "\n",
        "Exemplo, se o número de classes compreender entre idades maior do que 0 e menor ou igual a 100, teremos 100 classes, logo o número de classes de idade é 101."
      ]
    },
    {
      "cell_type": "code",
      "metadata": {
        "collapsed": true,
        "id": "3fTKbPEa45Oo",
        "colab_type": "code",
        "colab": {}
      },
      "source": [
        "# IMPLEMENTAR\n",
        "classes_idade = None"
      ],
      "execution_count": 0,
      "outputs": []
    },
    {
      "cell_type": "markdown",
      "metadata": {
        "id": "Xen6oc1m45Or",
        "colab_type": "text"
      },
      "source": [
        "Uma forma de categorizarmos as classes é utilizando o modelo _one hot encode_. Onde será expressado em um array com todas as classes. A classe correspondente a um determindo registro será armazenado como o valor 1 naquela classe."
      ]
    },
    {
      "cell_type": "code",
      "metadata": {
        "collapsed": true,
        "id": "IjG_2gUa45Os",
        "colab_type": "code",
        "colab": {}
      },
      "source": [
        "idades = df['age'].values\n",
        "idades_classes = keras.utils.to_categorical(idades, classes_idade)"
      ],
      "execution_count": 0,
      "outputs": []
    },
    {
      "cell_type": "markdown",
      "metadata": {
        "id": "dq6nbCLj45Ou",
        "colab_type": "text"
      },
      "source": [
        "Faça um teste do _one hot encoding_. Exiba os dados do registro de índice zero do conjunto de dados."
      ]
    },
    {
      "cell_type": "code",
      "metadata": {
        "collapsed": true,
        "id": "Kh8vaTxM45Ov",
        "colab_type": "code",
        "colab": {}
      },
      "source": [
        "idades_classes[0]"
      ],
      "execution_count": 0,
      "outputs": []
    },
    {
      "cell_type": "markdown",
      "metadata": {
        "id": "tKZR6Xt-45Ox",
        "colab_type": "text"
      },
      "source": [
        "Em seguida, vamos adaptar o _shape_ dos dados no padrão que o framework Keras utiliza."
      ]
    },
    {
      "cell_type": "code",
      "metadata": {
        "collapsed": true,
        "id": "BeW_6pZ245Oy",
        "colab_type": "code",
        "colab": {}
      },
      "source": [
        "features_imagem = []\n",
        " \n",
        "features_imagem = np.array(faces)\n",
        "features_imagem = features_imagem.reshape(features_imagem.shape[0], 224, 224, 3)"
      ],
      "execution_count": 0,
      "outputs": []
    },
    {
      "cell_type": "markdown",
      "metadata": {
        "id": "8AZpvDv645O0",
        "colab_type": "text"
      },
      "source": [
        "### 2.5 Separação de dados de treinamento e validação\n",
        "\n",
        "Para que o modelo seja robusto, é importante validar um subconjunto de amostras que não participaram do treinamento inicial.\n",
        "\n",
        "Defina uma porcentagem, da base total, que deverá ser separa somente para a validação. Expresse o número na forma de número fracionário, por exemplo 40% equivale a 0.4."
      ]
    },
    {
      "cell_type": "code",
      "metadata": {
        "collapsed": true,
        "id": "kbdG6oQD45O0",
        "colab_type": "code",
        "colab": {}
      },
      "source": [
        "# IMPLEMENTAR\n",
        "porcentagem_validacao = None"
      ],
      "execution_count": 0,
      "outputs": []
    },
    {
      "cell_type": "markdown",
      "metadata": {
        "id": "2XlO-SG245O2",
        "colab_type": "text"
      },
      "source": [
        "Execute o método ```train_test_split``` para realizar a divisão de cada tipo de amostra, sendo:\n",
        "* ```treinamento_x``` contém os _features_ de treinamento\n",
        "* ```teste_x``` contém os _features_ de validação (também é chamado de teste)\n",
        "* ```treinamento_y``` contém as classes de treinamento\n",
        "* ```teste_y``` contém as classes de validação"
      ]
    },
    {
      "cell_type": "code",
      "metadata": {
        "collapsed": true,
        "id": "5NctOwAc45O3",
        "colab_type": "code",
        "colab": {}
      },
      "source": [
        "treinamento_x, teste_x, treinamento_y, teste_y = train_test_split(features_imagem, \n",
        "                                                                  idades_classes, \n",
        "                                                                  test_size=porcentagem_validacao)"
      ],
      "execution_count": 0,
      "outputs": []
    },
    {
      "cell_type": "markdown",
      "metadata": {
        "id": "4bwasZay45O4",
        "colab_type": "text"
      },
      "source": [
        "### 2.6 Treinamento e validação\n",
        "\n",
        "O modelo VGGFace ainda não está por padrão na biblioteca Keras. Mesmo assim, como o artigo citado anteriormente possui a arquitetura definida, podemos implementá-la manualmente."
      ]
    },
    {
      "cell_type": "code",
      "metadata": {
        "collapsed": true,
        "id": "UHvxn74945O5",
        "colab_type": "code",
        "colab": {}
      },
      "source": [
        "#VGG-Face model\n",
        "modelo = Sequential()\n",
        "modelo.add(ZeroPadding2D((1,1),input_shape=(224,224, 3)))\n",
        "modelo.add(Convolution2D(64, (3, 3), activation='relu'))\n",
        "modelo.add(ZeroPadding2D((1,1)))\n",
        "modelo.add(Convolution2D(64, (3, 3), activation='relu'))\n",
        "modelo.add(MaxPooling2D((2,2), strides=(2,2)))\n",
        " \n",
        "modelo.add(ZeroPadding2D((1,1)))\n",
        "modelo.add(Convolution2D(128, (3, 3), activation='relu'))\n",
        "modelo.add(ZeroPadding2D((1,1)))\n",
        "modelo.add(Convolution2D(128, (3, 3), activation='relu'))\n",
        "modelo.add(MaxPooling2D((2,2), strides=(2,2)))\n",
        " \n",
        "modelo.add(ZeroPadding2D((1,1)))\n",
        "modelo.add(Convolution2D(256, (3, 3), activation='relu'))\n",
        "modelo.add(ZeroPadding2D((1,1)))\n",
        "modelo.add(Convolution2D(256, (3, 3), activation='relu'))\n",
        "modelo.add(ZeroPadding2D((1,1)))\n",
        "modelo.add(Convolution2D(256, (3, 3), activation='relu'))\n",
        "modelo.add(MaxPooling2D((2,2), strides=(2,2)))\n",
        " \n",
        "modelo.add(ZeroPadding2D((1,1)))\n",
        "modelo.add(Convolution2D(512, (3, 3), activation='relu'))\n",
        "modelo.add(ZeroPadding2D((1,1)))\n",
        "modelo.add(Convolution2D(512, (3, 3), activation='relu'))\n",
        "modelo.add(ZeroPadding2D((1,1)))\n",
        "modelo.add(Convolution2D(512, (3, 3), activation='relu'))\n",
        "modelo.add(MaxPooling2D((2,2), strides=(2,2)))\n",
        " \n",
        "modelo.add(ZeroPadding2D((1,1)))\n",
        "modelo.add(Convolution2D(512, (3, 3), activation='relu'))\n",
        "modelo.add(ZeroPadding2D((1,1)))\n",
        "modelo.add(Convolution2D(512, (3, 3), activation='relu'))\n",
        "modelo.add(ZeroPadding2D((1,1)))\n",
        "modelo.add(Convolution2D(512, (3, 3), activation='relu'))\n",
        "modelo.add(MaxPooling2D((2,2), strides=(2,2)))\n",
        " \n",
        "modelo.add(Convolution2D(4096, (7, 7), activation='relu'))\n",
        "modelo.add(Dropout(0.5))\n",
        "modelo.add(Convolution2D(4096, (1, 1), activation='relu'))\n",
        "modelo.add(Dropout(0.5))\n",
        "modelo.add(Convolution2D(2622, (1, 1)))\n",
        "modelo.add(Flatten())\n",
        "modelo.add(Activation('softmax'))"
      ],
      "execution_count": 0,
      "outputs": []
    },
    {
      "cell_type": "markdown",
      "metadata": {
        "id": "zgzdhbg545O7",
        "colab_type": "text"
      },
      "source": [
        "Os pesos já treinamentos podem ser baixados neste [link](https://drive.google.com/open?id=1xJY1mWULLOnK5GAGULcp_cgasVfy-e2j). Copie ele para a pasta ```pesos```.\n",
        "O arquivo de pesos é o mesmo utilizado neste [artigo](https://sefiks.com/2019/02/13/apparent-age-and-gender-prediction-in-keras)."
      ]
    },
    {
      "cell_type": "code",
      "metadata": {
        "collapsed": true,
        "id": "LP9Gs8FB45O8",
        "colab_type": "code",
        "colab": {}
      },
      "source": [
        "modelo.load_weights(\"pesos/vgg_face_weights.h5\")"
      ],
      "execution_count": 0,
      "outputs": []
    },
    {
      "cell_type": "markdown",
      "metadata": {
        "id": "mkiZn1SL45O_",
        "colab_type": "text"
      },
      "source": [
        "Assim como em qualquer modelo de _transfer learning_, precisamos adicionar na última camada as classes correspondentes. Deste modo, na saída da camada convulacional precisamos definir o número de classes. É o primeiro parâmetro do objeto ```Convolution2D```."
      ]
    },
    {
      "cell_type": "code",
      "metadata": {
        "collapsed": true,
        "id": "iNwZornz45PA",
        "colab_type": "code",
        "colab": {}
      },
      "source": [
        "for layer in modelo.layers[:-7]:\n",
        "    layer.trainable = False\n",
        "\n",
        "saida_modelo = Sequential()\n",
        "\n",
        "# IMPLEMENTAR\n",
        "saida_modelo = Convolution2D(None, (1, 1), name='predictions')(modelo.layers[-4].output)\n",
        "\n",
        "saida_modelo = Flatten()(saida_modelo)\n",
        "saida_modelo = Activation('softmax')(saida_modelo)\n",
        "modelo_idade = Model(inputs=modelo.input, outputs=saida_modelo)"
      ],
      "execution_count": 0,
      "outputs": []
    },
    {
      "cell_type": "markdown",
      "metadata": {
        "id": "YyIPuopW45PE",
        "colab_type": "text"
      },
      "source": [
        "Este tipo de treinamento possui muitas imagens. A etapa de treinamento pode demorar até mesmo mais do que 2 horas dependendo do tipo de computador utilizado.\n",
        "\n",
        "Apesar da demora, este desafio traz um desafio real de treinar um modelo de imagens com quantidade de exemplos adequado para as classificações requeridas.\n",
        "\n",
        "Sugiro que após o treinamento ser realizado, salvar os novos pesos e a rede para utilizar mais adiante nas inferências.\n",
        "\n",
        "Revise a arquitetura da rede com o comando a seguir."
      ]
    },
    {
      "cell_type": "code",
      "metadata": {
        "collapsed": true,
        "id": "3dfAGoMP45PF",
        "colab_type": "code",
        "colab": {}
      },
      "source": [
        "modelo_idade.summary()"
      ],
      "execution_count": 0,
      "outputs": []
    },
    {
      "cell_type": "markdown",
      "metadata": {
        "id": "_tlm6I8645PH",
        "colab_type": "text"
      },
      "source": [
        "O número de *épocas* é responsável por quantas vezes o modelo percorrerá o ciclo de _foward_ e _back_ _propagation_.\n",
        "\n",
        "Como este modelo possui muitas imagens, sugerimos um valor mínimo de 2 épocas."
      ]
    },
    {
      "cell_type": "code",
      "metadata": {
        "collapsed": true,
        "id": "kmC2glAM45PI",
        "colab_type": "code",
        "colab": {}
      },
      "source": [
        "# IMPLEMENTAR\n",
        "numero_epocas = None"
      ],
      "execution_count": 0,
      "outputs": []
    },
    {
      "cell_type": "markdown",
      "metadata": {
        "id": "bkmoeuYN45PK",
        "colab_type": "text"
      },
      "source": [
        "*Caso o modelo trave no treinamento, experimente diminuir o ```batch_size```.*"
      ]
    },
    {
      "cell_type": "code",
      "metadata": {
        "collapsed": true,
        "id": "R0Nn3IHS45PL",
        "colab_type": "code",
        "colab": {}
      },
      "source": [
        "modelo_idade.compile(optimizer='adam', loss='categorical_crossentropy', metrics=['accuracy'])\n",
        "historico = modelo_idade.fit(x=treinamento_x, y=treinamento_y, \n",
        "                             validation_data=(teste_x, teste_y), epochs=numero_epocas, batch_size=32)"
      ],
      "execution_count": 0,
      "outputs": []
    },
    {
      "cell_type": "markdown",
      "metadata": {
        "id": "pLbSoQ-145PN",
        "colab_type": "text"
      },
      "source": [
        "Armazene os valores do modelo e dos pesos para inferências futuras."
      ]
    },
    {
      "cell_type": "code",
      "metadata": {
        "collapsed": true,
        "id": "yu6yfSHR45PO",
        "colab_type": "code",
        "colab": {}
      },
      "source": [
        "# Salvando o modelo no formato HDf5\n",
        "modelo_idade.save(\"modelos/modelo_idade.h5\")\n",
        "modelo_idade.save_weights(\"pesos/modelo_idade_pesos.h5\")"
      ],
      "execution_count": 0,
      "outputs": []
    },
    {
      "cell_type": "markdown",
      "metadata": {
        "id": "wyAhQUUq45PQ",
        "colab_type": "text"
      },
      "source": [
        "Os valores de erro e acurácia são importantes indicadores de desempenho da rede. Avaliar a tendência de subida ou descida destes parâmetros é essencial para localizar, por exemplo, prooblemas de _overfitting_ e _underfitting_. \n",
        "Com o suporte dos gráficos avalie a tendência do modelo ao logo das épocas."
      ]
    },
    {
      "cell_type": "code",
      "metadata": {
        "collapsed": true,
        "id": "JSOkzRJ545PQ",
        "colab_type": "code",
        "colab": {}
      },
      "source": [
        "# Para deixar no formato do Seaborn os gráficos do Pyplot\n",
        "sns.set()\n",
        "\n",
        "# Exibindo dados de Acurácia/Precisão\n",
        "plt.plot(historico.history['acc'])\n",
        "plt.plot(historico.history['val_acc'])\n",
        "plt.title('model accuracy')\n",
        "plt.ylabel('accuracy')\n",
        "plt.xlabel('epoch')\n",
        "plt.legend(['train', 'test'], loc='upper left')\n",
        "plt.show()\n",
        "\n",
        "# Exibindo dados de Perda\n",
        "plt.plot(historico.history['loss'])\n",
        "plt.plot(historico.history['val_loss'])\n",
        "plt.title('model loss')\n",
        "plt.ylabel('loss')\n",
        "plt.xlabel('epoch')\n",
        "plt.legend(['train', 'test'], loc='upper left')\n",
        "plt.show()"
      ],
      "execution_count": 0,
      "outputs": []
    },
    {
      "cell_type": "markdown",
      "metadata": {
        "id": "COUX8KHx45PT",
        "colab_type": "text"
      },
      "source": [
        "**Pergunta:** Qual foi a tendência da função de erro e acurácia do modelo?"
      ]
    },
    {
      "cell_type": "markdown",
      "metadata": {
        "id": "dReiSvbh45PU",
        "colab_type": "text"
      },
      "source": [
        "**Resposta:**"
      ]
    },
    {
      "cell_type": "markdown",
      "metadata": {
        "id": "fiQu1Ym445PU",
        "colab_type": "text"
      },
      "source": [
        "Os comandos abaixo são de referência para carregar um modelo para inferências futuras."
      ]
    },
    {
      "cell_type": "code",
      "metadata": {
        "collapsed": true,
        "id": "mL4Qs30e45PV",
        "colab_type": "code",
        "colab": {}
      },
      "source": [
        "# carregando o modelo no formato HDf5\n",
        "modelo_idade = load_model(\"modelos/modelo_idade.h5\")  \n",
        "modelo_idade.load_weights(\"pesos/modelo_idade_pesos.h5\")"
      ],
      "execution_count": 0,
      "outputs": []
    },
    {
      "cell_type": "markdown",
      "metadata": {
        "id": "wX8V2UA945PX",
        "colab_type": "text"
      },
      "source": [
        "Este classificador tem uma particularidade diferente quando comparado com outros classificadores.\n",
        "Geralmente um classificador retorna, dado uma amostra, qual a classe mais próxima ou qual tem maior probabilidade estatística. Por exemplo, se fóssemos classificar um objeto, o retorno seria a classe correspondente àquele objeto com maior semelhança, mutualmente excludente, sendo uma única classe como resultado.\n",
        "\n",
        "Neste caso é diferente.\n",
        "\n",
        "Cada classe se refere a uma idade, logo, ao invés de nos basearmos na classe dominante, com maior probabilidade, podemos somar as probabilidades com cada classe e assim ter um valor de idade mais aproximado (veja na imagem abaixo do pipeline, item 5). \n",
        "\n",
        "É por essa razão que a acurácia do modelo, baseada somente na classe dominante é baixa.\n",
        "\n",
        "<p align=\"center\">\n",
        "<img src=\"https://github.com/LetticiaNicoli/fiap-ml-visao-computacional-capstone/blob/master/projeto/imagens-aux/pipeline.png?raw=1\">\n",
        "</p>\n",
        "\n",
        "Os comandos abaixo contabilizam a predição baseada na soma das probabilidades de cada classe."
      ]
    },
    {
      "cell_type": "code",
      "metadata": {
        "collapsed": true,
        "id": "vQ1aycbn45PX",
        "colab_type": "code",
        "colab": {}
      },
      "source": [
        "predicoes_idade = modelo_idade.predict(teste_x)\n",
        "classes_idade_saida = np.array([i for i in range(0, classes_idade)])\n",
        "predicoes_agrupadas = np.sum(predicoes_idade * classes_idade_saida, axis = 1)"
      ],
      "execution_count": 0,
      "outputs": []
    },
    {
      "cell_type": "markdown",
      "metadata": {
        "collapsed": true,
        "id": "e0p9U0F045Pb",
        "colab_type": "text"
      },
      "source": [
        "Deste modo, o valor da acurácia não é o melhor para avaliarmoso modelo. A uma outra forma de avaliação é utilizarmos o _Erro Médio Absoluto_.\n",
        "\n",
        "O uso do _Erro Médio Absoluto_ foi integralmente aplicado de acordo com este [artigo](https://sefiks.com/2019/02/13/apparent-age-and-gender-prediction-in-keras)."
      ]
    },
    {
      "cell_type": "code",
      "metadata": {
        "collapsed": true,
        "id": "oOIQ77Ej45Pc",
        "colab_type": "code",
        "colab": {}
      },
      "source": [
        "erro_medio_absoluto = 0\n",
        "atual_media = 0\n",
        "\n",
        "for i in range(0 ,predicoes_agrupadas.shape[0]):\n",
        "    predicao = int(predicoes_agrupadas[i])\n",
        "    atual = np.argmax(teste_y[i])\n",
        "    erro_abs = abs(predicao - atual)\n",
        "    atual_media = atual_media + atual\n",
        "    erro_medio_absoluto += erro_abs"
      ],
      "execution_count": 0,
      "outputs": []
    },
    {
      "cell_type": "code",
      "metadata": {
        "collapsed": true,
        "id": "A4IwX0AZ45Pe",
        "colab_type": "code",
        "colab": {}
      },
      "source": [
        "erro_medio_absoluto /= predicoes_agrupadas.shape[0]\n",
        " \n",
        "print(\"Erro médio absoluto (+/-): \", erro_medio_absoluto, \" anos\")\n",
        "print(\"Exemplos analisados: \",predicoes_agrupadas.shape[0])"
      ],
      "execution_count": 0,
      "outputs": []
    },
    {
      "cell_type": "markdown",
      "metadata": {
        "id": "wfNb_8XE45Ph",
        "colab_type": "text"
      },
      "source": [
        "> **Critério de sucesso:** com base nas amostras de teste, o erro absoluto precisa ser não mais do que (+/-) 8."
      ]
    },
    {
      "cell_type": "markdown",
      "metadata": {
        "id": "ikos_A5n45Pi",
        "colab_type": "text"
      },
      "source": [
        "### 2.7 Avaliação final\n",
        "\n",
        "Vamos analisar um conjunto de 6 imagens e verificar a coerência do modelo.\n",
        "Antes precisamos contruir uma função, a ```carregarImagem``` para padronizar a imagem, redimensionando para o formato do modelo e normalizando a intensidade dos pixels."
      ]
    },
    {
      "cell_type": "code",
      "metadata": {
        "collapsed": true,
        "id": "aJclPrbS45Pj",
        "colab_type": "code",
        "colab": {}
      },
      "source": [
        "def carregarImagem(caminho):\n",
        "    imagem = image.load_img(caminho, target_size=(224, 224))\n",
        "    imagem = image.img_to_array(imagem)\n",
        "    imagem = np.expand_dims(imagem, axis = 0)\n",
        "    imagem /= 255\n",
        "    return imagem"
      ],
      "execution_count": 0,
      "outputs": []
    },
    {
      "cell_type": "markdown",
      "metadata": {
        "id": "XqJjD7qK45Pl",
        "colab_type": "text"
      },
      "source": [
        "Para cada imagem de testes já separadas no diretório ```testes```, vamos padronizá-la."
      ]
    },
    {
      "cell_type": "code",
      "metadata": {
        "collapsed": true,
        "id": "GYMfi2Lz45Pm",
        "colab_type": "code",
        "colab": {}
      },
      "source": [
        "caminho_imagem_1 = \"testes/teste-1.jpg\"\n",
        "imagem_1_pad = carregarImagem(caminho_imagem_1)"
      ],
      "execution_count": 0,
      "outputs": []
    },
    {
      "cell_type": "markdown",
      "metadata": {
        "id": "frgVFEAp45Po",
        "colab_type": "text"
      },
      "source": [
        "Executar a inferência para obter sua predição."
      ]
    },
    {
      "cell_type": "code",
      "metadata": {
        "collapsed": true,
        "id": "e86pjScK45Po",
        "colab_type": "code",
        "colab": {}
      },
      "source": [
        "predicao_1 = modelo_idade.predict(imagem_1_pad)"
      ],
      "execution_count": 0,
      "outputs": []
    },
    {
      "cell_type": "markdown",
      "metadata": {
        "id": "G0cBmRHz45Pq",
        "colab_type": "text"
      },
      "source": [
        "E, finalmente, somar as classes para a classificação mais exata."
      ]
    },
    {
      "cell_type": "code",
      "metadata": {
        "collapsed": true,
        "id": "Zbn36GuH45Pq",
        "colab_type": "code",
        "colab": {}
      },
      "source": [
        "idade_agrupada_1 = np.round(np.sum(predicao_1 * classes_idade_saida, axis = 1))"
      ],
      "execution_count": 0,
      "outputs": []
    },
    {
      "cell_type": "markdown",
      "metadata": {
        "id": "cEd3v3Dp45Ps",
        "colab_type": "text"
      },
      "source": [
        "A função abaixo é para exibirmos no gráfico. Como elas estão com tamanhos diferentes, vamos também redimensioná-las para o padrão do moodeo, apenas por convenção, poderia ser outro tamanho."
      ]
    },
    {
      "cell_type": "code",
      "metadata": {
        "collapsed": true,
        "id": "jHxrkkdQ45Ps",
        "colab_type": "code",
        "colab": {}
      },
      "source": [
        "imagem_1 = image.load_img(caminho_imagem_1, target_size=(224, 224))"
      ],
      "execution_count": 0,
      "outputs": []
    },
    {
      "cell_type": "markdown",
      "metadata": {
        "id": "fN8fttS845Pv",
        "colab_type": "text"
      },
      "source": [
        "Agora, faremos para todas as outras imagens."
      ]
    },
    {
      "cell_type": "code",
      "metadata": {
        "collapsed": true,
        "id": "_oWmOsRj45Pw",
        "colab_type": "code",
        "colab": {}
      },
      "source": [
        "caminho_imagem_2 = \"testes/teste-2.png\"\n",
        "imagem_2_pad = carregarImagem(caminho_imagem_2)\n",
        "imagem_2 = image.load_img(caminho_imagem_2, target_size=(224, 224))\n",
        "predicao_2 = modelo_idade.predict(imagem_2_pad)\n",
        "idade_agrupada_2 = np.round(np.sum(predicao_2 * classes_idade_saida, axis = 1))\n",
        "\n",
        "caminho_imagem_3 = \"testes/teste-3.png\"\n",
        "imagem_3_pad = carregarImagem(caminho_imagem_3)\n",
        "imagem_3 = image.load_img(caminho_imagem_3, target_size=(224, 224))\n",
        "predicao_3 = modelo_idade.predict(imagem_3_pad)\n",
        "idade_agrupada_3 = np.round(np.sum(predicao_3 * classes_idade_saida, axis = 1))\n",
        "\n",
        "caminho_imagem_4 = \"testes/teste-4.png\"\n",
        "imagem_4_pad = carregarImagem(caminho_imagem_4)\n",
        "imagem_4 = image.load_img(caminho_imagem_4, target_size=(224, 224))\n",
        "predicao_4 = modelo_idade.predict(imagem_4_pad)\n",
        "idade_agrupada_4 = np.round(np.sum(predicao_4 * classes_idade_saida, axis = 1))\n",
        "\n",
        "caminho_imagem_5 = \"testes/teste-5.png\"\n",
        "imagem_5_pad = carregarImagem(caminho_imagem_5)\n",
        "imagem_5 = image.load_img(caminho_imagem_5, target_size=(224, 224))\n",
        "predicao_5 = modelo_idade.predict(imagem_5_pad)\n",
        "idade_agrupada_5 = np.round(np.sum(predicao_5 * classes_idade_saida, axis = 1))\n",
        "\n",
        "caminho_imagem_6 = \"testes/teste-6.png\"\n",
        "imagem_6_pad = carregarImagem(caminho_imagem_6)\n",
        "imagem_6 = image.load_img(caminho_imagem_6, target_size=(224, 224))\n",
        "predicao_6 = modelo_idade.predict(imagem_6_pad)\n",
        "idade_agrupada_6 = np.round(np.sum(predicao_6 * classes_idade_saida, axis = 1))"
      ],
      "execution_count": 0,
      "outputs": []
    },
    {
      "cell_type": "markdown",
      "metadata": {
        "id": "bvts31h045Px",
        "colab_type": "text"
      },
      "source": [
        "Exibindo as imagens.\n",
        "\n",
        "O resultado da idade é índice 0 do objeto ```idade_agrupada```."
      ]
    },
    {
      "cell_type": "code",
      "metadata": {
        "collapsed": true,
        "id": "5CcaEyU745Py",
        "colab_type": "code",
        "colab": {}
      },
      "source": [
        "plt.figure(figsize=(20,10))\n",
        "plt.subplot(231)\n",
        "plt.title(\"Idade inferida \" + str(idade_agrupada_1[0]))\n",
        "plt.imshow(imagem_1)\n",
        "plt.subplot(232)\n",
        "plt.title(\"Idade inferida \" + str(idade_agrupada_2[0]))\n",
        "plt.imshow(imagem_2)\n",
        "plt.subplot(233)\n",
        "plt.title(\"Idade inferida \" + str(idade_agrupada_3[0]))\n",
        "plt.imshow(imagem_3)\n",
        "plt.subplot(234)\n",
        "plt.title(\"Idade inferida \" + str(idade_agrupada_4[0]))\n",
        "plt.imshow(imagem_4)\n",
        "plt.subplot(235)\n",
        "plt.title(\"Idade inferida \" + str(idade_agrupada_5[0]))\n",
        "plt.imshow(imagem_5)\n",
        "plt.subplot(236)\n",
        "plt.title(\"Idade inferida \" + str(idade_agrupada_6[0]))\n",
        "plt.imshow(imagem_6)\n",
        "\n",
        "plt.show()"
      ],
      "execution_count": 0,
      "outputs": []
    },
    {
      "cell_type": "markdown",
      "metadata": {
        "id": "ooLkIDat45P0",
        "colab_type": "text"
      },
      "source": [
        "Analise se as idades estão coerentes com as imagens. Se estiver muito fora, avalie aumentar o número de épocas, por exemplo.\n",
        "\n",
        "Agora vamos implementar a função que retornará a idade a partir de uma imagem de entrada já padronizada (assuma que foi padronizada por uma função como a ```carregarImagem```. Assegure que a função retorne o valor da idade inferida em valor numérico, sem valor fracionário, somente inteiro."
      ]
    },
    {
      "cell_type": "code",
      "metadata": {
        "collapsed": true,
        "id": "R-K8YHkB45P1",
        "colab_type": "code",
        "colab": {}
      },
      "source": [
        "def predizerIdade(imagem):\n",
        "    # IMPLEMENTAR"
      ],
      "execution_count": 0,
      "outputs": []
    },
    {
      "cell_type": "markdown",
      "metadata": {
        "collapsed": true,
        "id": "Wc2zuncd45P3",
        "colab_type": "text"
      },
      "source": [
        "## 3. Modelo de predição de gênero biológico\n",
        "\n",
        "A base utilizada será a mesma que aplicamos no modeo de idade. Nesse o caso o modelo terá uma tarefa mais fácil, pois ao invés de aproximidamente 100 classes vamos ter somente 2 classes, uma cada definir o gênero masculino e outra para o gênero feminino. "
      ]
    },
    {
      "cell_type": "markdown",
      "metadata": {
        "id": "S0O6Q2B045P3",
        "colab_type": "text"
      },
      "source": [
        "### 3.1 Definição do modelo\n",
        "Vamos começar definindo o número de classes."
      ]
    },
    {
      "cell_type": "code",
      "metadata": {
        "collapsed": true,
        "id": "9xHA0hUT45P3",
        "colab_type": "code",
        "colab": {}
      },
      "source": [
        "# IMPLEMENTAR\n",
        "num_classes_genero = None"
      ],
      "execution_count": 0,
      "outputs": []
    },
    {
      "cell_type": "markdown",
      "metadata": {
        "id": "Pm1qAH9B45P5",
        "colab_type": "text"
      },
      "source": [
        "Transformando os valores do conjunto de dados em _one hot enconding_ para definição dos gêneros."
      ]
    },
    {
      "cell_type": "code",
      "metadata": {
        "collapsed": true,
        "id": "rY5EEU4645P5",
        "colab_type": "code",
        "colab": {}
      },
      "source": [
        "generos = df['gender'].values\n",
        "generos_classes = keras.utils.to_categorical(generos, num_classes_genero)"
      ],
      "execution_count": 0,
      "outputs": []
    },
    {
      "cell_type": "markdown",
      "metadata": {
        "id": "LNk-T37n45P7",
        "colab_type": "text"
      },
      "source": [
        "Como para ambos os modelos, de idade e gênero, utilizamos a mesma base de _transfer learning_ do VGGFace, vamos reutilizá-la também neste modelo."
      ]
    },
    {
      "cell_type": "code",
      "metadata": {
        "collapsed": true,
        "id": "-QReUtRA45P7",
        "colab_type": "code",
        "colab": {}
      },
      "source": [
        "for layer in modelo.layers[:-7]:\n",
        "    layer.trainable = False\n",
        "\n",
        "saida_modelo = Sequential()\n",
        "saida_modelo = Convolution2D(num_classes_genero, (1, 1), name='predictions')(modelo.layers[-4].output)\n",
        "saida_modelo = Flatten()(saida_modelo)\n",
        "saida_modelo = Activation('softmax')(saida_modelo)\n",
        "\n",
        "modelo_genero = Model(inputs=modelo.input, outputs=saida_modelo)"
      ],
      "execution_count": 0,
      "outputs": []
    },
    {
      "cell_type": "markdown",
      "metadata": {
        "id": "_-EBnfh_45P9",
        "colab_type": "text"
      },
      "source": [
        "### 3.2 Separação de dados de treinamento e validação\n",
        "\n",
        "É recomendavel manter a mesma porcentagem do modelo anterior para dividir os dados de treinamento e validação."
      ]
    },
    {
      "cell_type": "code",
      "metadata": {
        "collapsed": true,
        "id": "KuM3iInz45P9",
        "colab_type": "code",
        "colab": {}
      },
      "source": [
        "#IMPLEMENTAR\n",
        "porcentagem_validacao = None"
      ],
      "execution_count": 0,
      "outputs": []
    },
    {
      "cell_type": "code",
      "metadata": {
        "collapsed": true,
        "id": "GWX709yd45P_",
        "colab_type": "code",
        "colab": {}
      },
      "source": [
        "treinamento_x, teste_x, treinamento_y, teste_y = train_test_split(features_imagem, \n",
        "                                                                  generos_classes, \n",
        "                                                                  test_size=porcentagem_validacao)"
      ],
      "execution_count": 0,
      "outputs": []
    },
    {
      "cell_type": "markdown",
      "metadata": {
        "id": "fIYLZ9kb45QC",
        "colab_type": "text"
      },
      "source": [
        "### 3.3 Treinamento e validação\n",
        "\n",
        "A seguir iremos treinar o modelo para classificação de gêneros.\n",
        "De forma semelhante realizada anteriormente, é necessário definir o número de épocas para esta etapa. Recomendamos um valor mínimo de 2."
      ]
    },
    {
      "cell_type": "code",
      "metadata": {
        "collapsed": true,
        "id": "7ZVJHn4e45QD",
        "colab_type": "code",
        "colab": {}
      },
      "source": [
        "# IMPLEMENTAR\n",
        "numero_epocas = None"
      ],
      "execution_count": 0,
      "outputs": []
    },
    {
      "cell_type": "markdown",
      "metadata": {
        "id": "EdPm2P5i45QE",
        "colab_type": "text"
      },
      "source": [
        "*Caso o modelo trave no treinamento, experimente diminuir o ```batch_size```*.\n",
        "\n",
        "Este modelo é mais simples por ter menos classes, logo podemos assumir um ```batch_size``` maior que o anterior."
      ]
    },
    {
      "cell_type": "code",
      "metadata": {
        "collapsed": true,
        "id": "1nJmDoC145QF",
        "colab_type": "code",
        "colab": {}
      },
      "source": [
        "modelo_genero.compile(optimizer='adam', loss='categorical_crossentropy', metrics=['accuracy'])\n",
        "historico_genero = modelo_genero.fit(x=treinamento_x, y=treinamento_y, \n",
        "                             validation_data=(teste_x, teste_y), epochs=numero_epocas, batch_size=64)"
      ],
      "execution_count": 0,
      "outputs": []
    },
    {
      "cell_type": "markdown",
      "metadata": {
        "id": "5k5sgLeb45QG",
        "colab_type": "text"
      },
      "source": [
        "Verifique abaixo, por meio dos gráficos, como está a evolução da função de erro e acurácia do modelo."
      ]
    },
    {
      "cell_type": "code",
      "metadata": {
        "collapsed": true,
        "id": "EjY7QmL345QG",
        "colab_type": "code",
        "colab": {}
      },
      "source": [
        "# Para deixar no formato do Seaborn os gráficos do Pyplot\n",
        "sns.set()\n",
        "\n",
        "# Exibindo dados de Acurácia/Precisão\n",
        "plt.plot(historico_genero.history['acc'])\n",
        "plt.plot(historico_genero.history['val_acc'])\n",
        "plt.title('model accuracy')\n",
        "plt.ylabel('accuracy')\n",
        "plt.xlabel('epoch')\n",
        "plt.legend(['train', 'test'], loc='upper left')\n",
        "plt.show()\n",
        "\n",
        "# Exibindo dados de Perda\n",
        "plt.plot(historico_genero.history['loss'])\n",
        "plt.plot(historico_genero.history['val_loss'])\n",
        "plt.title('model loss')\n",
        "plt.ylabel('loss')\n",
        "plt.xlabel('epoch')\n",
        "plt.legend(['train', 'test'], loc='upper left')\n",
        "plt.show()"
      ],
      "execution_count": 0,
      "outputs": []
    },
    {
      "cell_type": "markdown",
      "metadata": {
        "id": "6r5tomgI45QJ",
        "colab_type": "text"
      },
      "source": [
        "**Pergunta:** Qual foi a tendência da função de erro e acurácia do modelo?"
      ]
    },
    {
      "cell_type": "markdown",
      "metadata": {
        "id": "wBTSBvS145QJ",
        "colab_type": "text"
      },
      "source": [
        "**Resposta:**"
      ]
    },
    {
      "cell_type": "markdown",
      "metadata": {
        "id": "87GFnwCd45QK",
        "colab_type": "text"
      },
      "source": [
        "Salve os modelos abaixo para uso em inferências mais adiante no projeto."
      ]
    },
    {
      "cell_type": "code",
      "metadata": {
        "collapsed": true,
        "id": "TCXaXoM945QK",
        "colab_type": "code",
        "colab": {}
      },
      "source": [
        "# Salvando o modelo no formato HDf5\n",
        "modelo_genero.save(\"modelos/modelo_genero.h5\")\n",
        "modelo_genero.save_weights(\"pesos/modelo_genero_pesos.h5\")"
      ],
      "execution_count": 0,
      "outputs": []
    },
    {
      "cell_type": "markdown",
      "metadata": {
        "id": "rDEeYtWr45QM",
        "colab_type": "text"
      },
      "source": [
        "Os comandos a seguir são para carregar os pesos e o modelo previamente treinado."
      ]
    },
    {
      "cell_type": "code",
      "metadata": {
        "collapsed": true,
        "id": "TOlzr4M145QN",
        "colab_type": "code",
        "colab": {}
      },
      "source": [
        "# carregando o modelo no formato HDf5\n",
        "modelo_genero = load_model(\"modelos/modelo_genero.h5\")  \n",
        "modelo_genero.load_weights(\"pesos/modelo_genero_pesos.h5\")"
      ],
      "execution_count": 0,
      "outputs": []
    },
    {
      "cell_type": "markdown",
      "metadata": {
        "id": "iKxb0FoJ45QP",
        "colab_type": "text"
      },
      "source": [
        "> **Critério de sucesso:** acurácia do modelo, com base nas amostra de teste, superior a 95%."
      ]
    },
    {
      "cell_type": "markdown",
      "metadata": {
        "id": "S32YbhAN45QP",
        "colab_type": "text"
      },
      "source": [
        "### 3.4 Avaliação final\n",
        "\n",
        "Com base em algumas amostras da base de testes, vamos inferir 6 imagens para verificarmos o desempenho do modeo.\n",
        "Selecionamos 3 imagens de homens e mulheres.\n",
        "\n",
        "Como este modelo é mais simples, ou seja, o resultado sempre vai ser a classe com maior probabilidade, não precisamos realizar a somatória dos pesos individualmente como fizemos no modelo anterior.\n",
        "\n",
        "Assim o resultado final será obtido pela maior classe. A função ```np.argmax``` retorna a maior classe da predição realizada pelo modelo.\n",
        "\n",
        "De acordo com o _encoding_, o índice 0 indica gênero masculino e o índice 1 o gênero feminino."
      ]
    },
    {
      "cell_type": "code",
      "metadata": {
        "collapsed": true,
        "id": "OzUspuXg45QQ",
        "colab_type": "code",
        "colab": {}
      },
      "source": [
        "predicao_1 = modelo_genero.predict(imagem_1_pad)\n",
        "resultado_1 = \"Masculino\" if np.argmax(predicao_1) == 1 else \"Feminino\"\n",
        "\n",
        "predicao_2 = modelo_genero.predict(imagem_2_pad)\n",
        "resultado_2 = \"Masculino\" if np.argmax(predicao_2) == 1 else \"Feminino\"\n",
        "\n",
        "predicao_3 = modelo_genero.predict(imagem_3_pad)\n",
        "resultado_3 = \"Masculino\" if np.argmax(predicao_3) == 1 else \"Feminino\"\n",
        "\n",
        "predicao_4 = modelo_genero.predict(imagem_4_pad)\n",
        "resultado_4 = \"Masculino\" if np.argmax(predicao_4) == 1 else \"Feminino\"\n",
        "\n",
        "predicao_5 = modelo_genero.predict(imagem_5_pad)\n",
        "resultado_5 = \"Masculino\" if np.argmax(predicao_5) == 1 else \"Feminino\"\n",
        "\n",
        "predicao_6 = modelo_genero.predict(imagem_6_pad)\n",
        "resultado_6 = \"Masculino\" if np.argmax(predicao_6) == 1 else \"Feminino\""
      ],
      "execution_count": 0,
      "outputs": []
    },
    {
      "cell_type": "markdown",
      "metadata": {
        "id": "VYRmhI3E45QR",
        "colab_type": "text"
      },
      "source": [
        "Agora vamos exibir no gráfico as imagens e as inferências realizadas."
      ]
    },
    {
      "cell_type": "code",
      "metadata": {
        "collapsed": true,
        "id": "bFFCIp7k45QR",
        "colab_type": "code",
        "colab": {}
      },
      "source": [
        "# Para deixar no formato do Seaborn os gráficos do Pyplot\n",
        "sns.set()\n",
        "sns.set_style(\"whitegrid\", {'axes.grid' : False})\n",
        "\n",
        "plt.figure(figsize=(20,10))\n",
        "plt.subplot(231)\n",
        "plt.title(\"Gênero inferido: \" + resultado_1)\n",
        "plt.imshow(imagem_1)\n",
        "plt.subplot(232)\n",
        "plt.title(\"Gênero inferido: \" + resultado_2)\n",
        "plt.imshow(imagem_2)\n",
        "plt.subplot(233)\n",
        "plt.title(\"Gênero inferido: \" + resultado_3)\n",
        "plt.imshow(imagem_3)\n",
        "plt.subplot(234)\n",
        "plt.title(\"Gênero inferido: \" + resultado_4)\n",
        "plt.imshow(imagem_4)\n",
        "plt.subplot(235)\n",
        "plt.title(\"Gênero inferido: \" + resultado_5)\n",
        "plt.imshow(imagem_5)\n",
        "plt.subplot(236)\n",
        "plt.title(\"Gênero inferido: \" + resultado_6)\n",
        "plt.imshow(imagem_6)\n",
        "\n",
        "plt.show()"
      ],
      "execution_count": 0,
      "outputs": []
    },
    {
      "cell_type": "markdown",
      "metadata": {
        "id": "jd2wDLaE45QT",
        "colab_type": "text"
      },
      "source": [
        "Vamos aproveitar para deixar preparado a função de predição de gênero para usarmos mais adiante.\n",
        "Implemente a função abaixo para retornar \"Masculino\" se a classe com maior probabilidade for 1, ou \"Feminino\" se a maior probabilidade for a classe igual a 0.\n",
        "É do mesmo jeito que fizemos anteriormente na predição de idade. Assuma que o parâmetro de entrada seja uma imagem já padronizada."
      ]
    },
    {
      "cell_type": "code",
      "metadata": {
        "collapsed": true,
        "id": "gO7G6s_545QU",
        "colab_type": "code",
        "colab": {}
      },
      "source": [
        "def predizerGenero(imagem):\n",
        "    # IMPLEMENTAR"
      ],
      "execution_count": 0,
      "outputs": []
    },
    {
      "cell_type": "markdown",
      "metadata": {
        "id": "BhZvzaaL45QW",
        "colab_type": "text"
      },
      "source": [
        "## 4. Identificação de faces\n",
        "\n",
        "Nesta etapa precisamos construir uma forma de extrair regiões de interesse de imagens que sejam rostos. \n",
        "Problema de reconhecimento de faces aprofundado é realizada a partir de um recorte de região de interesse. Logo, nossa estratégia agora é como extrair uma ou mais faces de uma imagem para que seja possível, posteriormente, aplicarmos os modelos que acabamos de classificar.\n",
        "\n",
        "Vamos começar com um teste simples."
      ]
    },
    {
      "cell_type": "code",
      "metadata": {
        "id": "bNRTARfy45QW",
        "colab_type": "code",
        "colab": {}
      },
      "source": [
        "imagem = cv2.imread('testes/teste-8.png')\n",
        "imagem = cv2.cvtColor(imagem, cv2.COLOR_BGR2RGB)"
      ],
      "execution_count": 0,
      "outputs": []
    },
    {
      "cell_type": "code",
      "metadata": {
        "id": "Pzyducfk45QY",
        "colab_type": "code",
        "colab": {}
      },
      "source": [
        "plt.figure(figsize=(20,10))\n",
        "plt.imshow(imagem)\n",
        "plt.title(\"Pessoas\")"
      ],
      "execution_count": 0,
      "outputs": []
    },
    {
      "cell_type": "markdown",
      "metadata": {
        "id": "JtMP3myM45QZ",
        "colab_type": "text"
      },
      "source": [
        "Escolha uma forma de identificar rostos de uma imagem.\n",
        "Recomendamos as seguintes formas:\n",
        "\n",
        "* Classificador em cascata de Haar\n",
        "* Detector de face baseado em Hog (DLib), recomendamos utilizar o classificador de 68 pontos para maior precisão\n",
        "\n",
        "Dada a imagem de testes apresentada, execute seu algoritmo escolhido e retorne o número de faces na variável ```faces```."
      ]
    },
    {
      "cell_type": "code",
      "metadata": {
        "id": "Zd5AscBY45Qa",
        "colab_type": "code",
        "colab": {}
      },
      "source": [
        "# IMPLEMENTAR\n",
        "\n",
        "faces = None"
      ],
      "execution_count": 0,
      "outputs": []
    },
    {
      "cell_type": "code",
      "metadata": {
        "id": "adXyDPjL45Qc",
        "colab_type": "code",
        "colab": {}
      },
      "source": [
        "print(\"Faces encontradas: \" + str(len(faces)))"
      ],
      "execution_count": 0,
      "outputs": []
    },
    {
      "cell_type": "markdown",
      "metadata": {
        "id": "OyzCpU8445Qe",
        "colab_type": "text"
      },
      "source": [
        "> **Critério de sucesso:** encontrar as 2 faces da imagem."
      ]
    },
    {
      "cell_type": "markdown",
      "metadata": {
        "id": "1u_GkYOw45Qf",
        "colab_type": "text"
      },
      "source": [
        "Com as faces identificadas, desenhe um retângulo em cada uma delas.\n",
        "Para desenhar um retângulo, é necessário os seguintes dados: coordenada x, y, comprimento (w) e altura (h).\n",
        "\n",
        "Caso utilize o detector de faces do DLib, o valor da coordenada x é equivalente ao atributo _left_ e a coordenada y é o equivalente ao atributo _top_.\n",
        "\n",
        "O DLib é um identificador tão versátil que é capaz de identificar rostos parciais em uma imagem. No entanto, quando isso ocorre as coordenadas podem ser negativas, o que pode demandar um certo ajuste para obter o valor da região de interesse, por exemplo igualando a coordenada a 0.\n",
        "\n",
        "Utilize o seguinte comando para desenhar um retângulo em cada face identificada.\n",
        "\n",
        "````\n",
        "cv2.rectangle(imagem_anotada, (x,y), (x+w,y+h), (255,255,0), 2)\n",
        "````"
      ]
    },
    {
      "cell_type": "markdown",
      "metadata": {
        "id": "VoKpjKkn45Qf",
        "colab_type": "text"
      },
      "source": [
        "Criando uma cópia da imagem original para anotação."
      ]
    },
    {
      "cell_type": "code",
      "metadata": {
        "id": "bPpUF99Z45Qg",
        "colab_type": "code",
        "colab": {}
      },
      "source": [
        "imagem_anotada = imagem.copy()"
      ],
      "execution_count": 0,
      "outputs": []
    },
    {
      "cell_type": "code",
      "metadata": {
        "id": "N3fzPHVR45Qh",
        "colab_type": "code",
        "colab": {}
      },
      "source": [
        "#IMPLEMENTAR\n"
      ],
      "execution_count": 0,
      "outputs": []
    },
    {
      "cell_type": "markdown",
      "metadata": {
        "id": "UyequTA_45Qj",
        "colab_type": "text"
      },
      "source": [
        "Exibindo a imagem com os retângulos desenhados."
      ]
    },
    {
      "cell_type": "code",
      "metadata": {
        "id": "-xHupJxM45Qj",
        "colab_type": "code",
        "colab": {}
      },
      "source": [
        "plt.figure(figsize=(20,10))\n",
        "plt.imshow(imagem_anotada)\n",
        "plt.title(\"Pessoas\")"
      ],
      "execution_count": 0,
      "outputs": []
    },
    {
      "cell_type": "markdown",
      "metadata": {
        "id": "r0oXWKuY45Ql",
        "colab_type": "text"
      },
      "source": [
        "Uma vez que já foi definido o melhor algoritmo de identificação de faces, precisamos construir uma função que posteriormente utilizaremos no processo de processamento de vídeos.\n",
        "\n",
        "Essa função deverá receber na entrada uma imagem colorida e retornar, na forma de lista, um dicionário com as seguintes informações: extração do ROI do rosto e as coordenadas da localização do rosto.\n",
        "\n",
        "Exemplo de retorno:\n",
        "\n",
        "```json\n",
        "[{'coordenadas': [array([589, 290, 386, 386])],\n",
        "  'rosto': array([[[38, 21, 19],\n",
        "          [40, 21, 20],\n",
        "          [41, 22, 20],\n",
        "          ...,\n",
        "          [36, 19, 13],\n",
        "          [37, 20, 15],\n",
        "          [40, 23, 18]],...}]\n",
        "```"
      ]
    },
    {
      "cell_type": "markdown",
      "metadata": {
        "id": "AeAWJPUA45Qo",
        "colab_type": "text"
      },
      "source": [
        "O atributo rosto utilizaremos para aplicarmos os modelos de reconhecimento de idade e gênero, e as coordenadas serão utilizadas para fazer os recortes nas imagens.\n",
        "\n",
        "Com isso, a chave ```rosto``` deverá ter o _slice_ da imagem neste padrão ```imagem[y:y+h, x:x+w]``` e a chave ```coordenadas``` deverá ter a saída dos pontos (x, y, h, w) neste padrão ```[np.array(lista_coordenadas)]```."
      ]
    },
    {
      "cell_type": "code",
      "metadata": {
        "id": "VJs69qrL45Qo",
        "colab_type": "code",
        "colab": {}
      },
      "source": [
        "def obterFaces(imagem):\n",
        "    rostos = []\n",
        "    \n",
        "    #IMPLEMENTAR\n",
        "    \n",
        "    return rostos"
      ],
      "execution_count": 0,
      "outputs": []
    },
    {
      "cell_type": "markdown",
      "metadata": {
        "id": "y_RBCLMU45Qp",
        "colab_type": "text"
      },
      "source": [
        "Vamos aplicar um teste com a imagem anterior (variável ```imagem```)."
      ]
    },
    {
      "cell_type": "code",
      "metadata": {
        "id": "OdmRXJl345Qp",
        "colab_type": "code",
        "colab": {}
      },
      "source": [
        "rostos = obterFaces(imagem)\n",
        "rostos"
      ],
      "execution_count": 0,
      "outputs": []
    },
    {
      "cell_type": "markdown",
      "metadata": {
        "id": "ZWzFf1Jl45Qq",
        "colab_type": "text"
      },
      "source": [
        "> **Critério de sucesso:** retornar 2 valores (da lista) com coordenadas e rosto para cada face identificada. Exemplo:\n",
        "\n",
        "\n",
        "```\n",
        "[{'coordenadas': [array([534, 20,  90, 100], dtype=int32)],\n",
        "  'rosto': array([...], shape=(0, 89, 3), dtype=uint8)},\n",
        "  {'coordenadas': [array([222, 13,  90, 100], dtype=int32)],\n",
        "  'rosto': array([...], shape=(0, 89, 3), dtype=uint8)}]\n",
        "```"
      ]
    },
    {
      "cell_type": "markdown",
      "metadata": {
        "id": "1nGPdsus45Qr",
        "colab_type": "text"
      },
      "source": [
        "Agora vamos testar se os parâmetros estão funcionando adequadamente.\n",
        "\n",
        "Primeiro a imagem do rosto."
      ]
    },
    {
      "cell_type": "code",
      "metadata": {
        "id": "tD03rcWi45Qr",
        "colab_type": "code",
        "colab": {}
      },
      "source": [
        "sns.set_style(\"whitegrid\", {'axes.grid' : False})\n",
        "plt.figure(figsize=(20,10))\n",
        "plt.imshow(rostos[0][\"rosto\"])\n",
        "plt.title(\"Pessoas\")"
      ],
      "execution_count": 0,
      "outputs": []
    },
    {
      "cell_type": "markdown",
      "metadata": {
        "id": "98kIGZjn45Qs",
        "colab_type": "text"
      },
      "source": [
        "O próximo passo são as coordenadas. Para simplificar, vamos desenhar um retângulo na imagem original com estes pontos."
      ]
    },
    {
      "cell_type": "code",
      "metadata": {
        "id": "-qnKOQKk45Qt",
        "colab_type": "code",
        "colab": {}
      },
      "source": [
        "imagem_anotada = imagem.copy()\n",
        "\n",
        "for (x,y,w,h) in rostos[0][\"coordenadas\"]:\n",
        "    cv2.rectangle(imagem_anotada, (x,y), (x+w,y+h), (255,255,0), 2)\n",
        "\n",
        "sns.set_style(\"whitegrid\", {'axes.grid' : False})\n",
        "plt.figure(figsize=(20,10))\n",
        "plt.imshow(imagem_anotada)\n",
        "plt.title(\"Pessoas\")"
      ],
      "execution_count": 0,
      "outputs": []
    },
    {
      "cell_type": "markdown",
      "metadata": {
        "id": "ll_pi8bP45Qu",
        "colab_type": "text"
      },
      "source": [
        "### 4.1 Padronização de tamanho de imagem\n",
        "\n",
        "Adiante, quando aplicarmos a classificação dos rostos, precisaremos antes padronizar a imagem para o tamanho que o modelo recebe na camada de entrada bem como a normalização dos pixels da imagem, ou seja, ao invés de estar no formato de intensidade de pixel de 0 a 255, deve estar representado entre 0 e 1.\n",
        "\n",
        "As implementações deverão ser as seguintes:\n",
        "\n",
        "1. ```IMPLEMENTAR 1```: redimensionar a imagem para o tamanho da camada de entrada. Utilize uma interpolação adequada para não perder qualidade de imagem.\n",
        "2. ```IMPLEMENTAR 2```: normalizar a intensidade de pixel da imagem para 0 e 1 e não 0 a 255, que é o padrão.\n",
        "\n",
        "As demais instruções seguem inalteradas."
      ]
    },
    {
      "cell_type": "code",
      "metadata": {
        "collapsed": true,
        "id": "bLMQmhjk45Qv",
        "colab_type": "code",
        "colab": {}
      },
      "source": [
        "def padronizarROI(imagem):\n",
        "    # IMPLEMENTAR 1\n",
        "    imagem = None\n",
        "    \n",
        "    imagem = image.img_to_array(imagem)\n",
        "    imagem = np.expand_dims(imagem, axis = 0)\n",
        "    \n",
        "    # IMPLEMENTAR 2\n",
        "    imagem = None\n",
        "    \n",
        "    return imagem"
      ],
      "execution_count": 0,
      "outputs": []
    },
    {
      "cell_type": "markdown",
      "metadata": {
        "collapsed": true,
        "id": "wo1ptdNO45Qx",
        "colab_type": "text"
      },
      "source": [
        "Agora, vamos avançar para a identificação de objetos."
      ]
    },
    {
      "cell_type": "markdown",
      "metadata": {
        "id": "wKq3yaN645Qx",
        "colab_type": "text"
      },
      "source": [
        "## 5. Identificação de objetos\n",
        "\n",
        "Além de identificarmos as pessoas, precisamos também identificar diferentes objetos.\n",
        "Uma forma de alcançarmos tal objetivo é utilizar um modelo já treinado com diversos objetos treinados.\n",
        "\n",
        "O modolo Yolov3, por exemplo, possui 80 diferentes objetos em seu modelo, servindo muito bem para o propósito do desafio."
      ]
    },
    {
      "cell_type": "markdown",
      "metadata": {
        "collapsed": true,
        "id": "TzH0DIRk45Qy",
        "colab_type": "text"
      },
      "source": [
        "### 5.1 Configurando o modelo Yolov3\n",
        "\n",
        "Primeiramente baixe os pesos diretamente no site do Darknet, neste [link](https://pjreddie.com/media/files/yolov3.weights). Copie o arquivo ```yolov3.weights``` para a pasta pesos.\n",
        "Confira o arquivo ```yolo-classes/coco.anmes```. Estas são as classes de todos os objetos que são possíveis identificar.\n",
        "Por fim, verifique se o arquivo ```config/yolov3.cfg``` está presente. Não é necessário ajustar nenhum parâmetro nele."
      ]
    },
    {
      "cell_type": "code",
      "metadata": {
        "collapsed": true,
        "id": "BAdriwkO45Qy",
        "colab_type": "code",
        "colab": {}
      },
      "source": [
        "# Carregar os labels do conjunto de dados Coco\n",
        "label_path = \"yolo-classes/coco.names\"\n",
        "labels = open(label_path).read().strip().split(\"\\n\")\n",
        "\n",
        "# Atribuir a cada label uma cor diferente (randômica)\n",
        "np.random.seed(42)\n",
        "cores = np.random.randint(0, 255, size=(len(labels), 3), dtype=\"uint8\")\n",
        "\n",
        "# Definir caminho dos arquivos de pesos e configuração\n",
        "pesos_path =\"pesos/yolov3.weights\"\n",
        "config_path = \"config/yolov3.cfg\"\n",
        "\n",
        "# Carregar a rede\n",
        "net = cv2.dnn.readNetFromDarknet(config_path, pesos_path)"
      ],
      "execution_count": 0,
      "outputs": []
    },
    {
      "cell_type": "markdown",
      "metadata": {
        "id": "penGDzU845Qz",
        "colab_type": "text"
      },
      "source": [
        "Se o código carregou as configurações sem erros, estamos prontos para avançar."
      ]
    },
    {
      "cell_type": "markdown",
      "metadata": {
        "id": "OZZfPc-845Q0",
        "colab_type": "text"
      },
      "source": [
        "Os valores de confiança e supressão não máxima são atributes importantes para o processo de detecção de objetos. Escolha valores adequados que permitam a detecção aceitável e com valores próximos os critérios de sucesso apresentandos mais adiante.\n",
        "\n",
        "Os valores precisam ser numéricos fracionários. Sendo que 1 é igual a 100%. Valores médios costumam apresentar performance razoável."
      ]
    },
    {
      "cell_type": "code",
      "metadata": {
        "collapsed": true,
        "id": "s0XGwo8045Q0",
        "colab_type": "code",
        "colab": {}
      },
      "source": [
        "conf_threshold = None\n",
        "nms_threshold = None"
      ],
      "execution_count": 0,
      "outputs": []
    },
    {
      "cell_type": "markdown",
      "metadata": {
        "id": "x4xHdYNP45Q3",
        "colab_type": "text"
      },
      "source": [
        "**Pergunta:** Qual é a influência do parâmetro de confiança e supressão não máxima na performance do modelo?"
      ]
    },
    {
      "cell_type": "markdown",
      "metadata": {
        "id": "RsTG48Is45Q3",
        "colab_type": "text"
      },
      "source": [
        "**Resposta:**"
      ]
    },
    {
      "cell_type": "markdown",
      "metadata": {
        "id": "gylbzd7L45Q3",
        "colab_type": "text"
      },
      "source": [
        "### 5.2 Obtendo região de interesse e coordenadas\n",
        "\n",
        "De forma semelhante que foi feito na identificação de faces, vamos fazer para a identificação de objetos.\n",
        "Na função abaixo vamos implementar um algoritmo que retornará em um dicionário os valores do recorte da imagem, o que chamamos de região de interesse e suas coordenadas x, y, w e h.\n",
        "\n",
        "A entrada da função é uma imagem colorida e uma lista de objetos para identificar, no formato de lista.\n",
        "Sua saída, é uma lista de objetos no seguinte formato:\n",
        "\n",
        "```json\n",
        "[{'coordenadas': [array([589, 290, 386, 386])],\n",
        "  'objeto': array([[[38, 21, 19],\n",
        "          [40, 21, 20],\n",
        "          [41, 22, 20],\n",
        "          ...,\n",
        "          [36, 19, 13],\n",
        "          [37, 20, 15],\n",
        "          [40, 23, 18]],...}]\n",
        "```\n",
        "\n",
        "Onde ```coordenadas``` é uma lista das coordenadas x, y, w e h no formato array, igual ao que foi apresentado anteriormente: ```[np.array(lista_coordenadas)]```. E ```objeto``` é a região de interesse do objeto extraído, igual ao que foi apresentado anteriormente: ```imagem[y:y+h, x:x+w]```."
      ]
    },
    {
      "cell_type": "code",
      "metadata": {
        "collapsed": true,
        "id": "RXt_Mqzm45Q4",
        "colab_type": "code",
        "colab": {}
      },
      "source": [
        "def obter_objetos(imagem, lista_objetos):\n",
        "    \n",
        "    (H, W) = imagem.shape[:2]\n",
        "\n",
        "    ln = net.getLayerNames()\n",
        "    ln = [ln[i[0] - 1] for i in net.getUnconnectedOutLayers()]\n",
        "\n",
        "    blob = cv2.dnn.blobFromImage(imagem, 1/255.0, (416, 416), swapRB=True, crop=False)\n",
        "    net.setInput(blob)\n",
        "    layerOutputs = net.forward(ln)\n",
        "\n",
        "    boxes = []\n",
        "    confidences = []\n",
        "    classIDs = []\n",
        "    objetos = []\n",
        "\n",
        "    for output in layerOutputs:\n",
        "        for detection in output:\n",
        "            scores = detection[5:]\n",
        "            classID = np.argmax(scores)\n",
        "            confidence = scores[classID]\n",
        "\n",
        "            if confidence > conf_threshold:\n",
        "                \n",
        "                box = detection[0:4] * np.array([W, H, W, H])\n",
        "                (centerX, centerY, width, height) = box.astype(\"int\")\n",
        "\n",
        "                x = int(centerX - (width/2))\n",
        "                y = int(centerY - (height/2))\n",
        "\n",
        "                boxes.append([x, y, int(width), int(height)])\n",
        "                confidences.append(float(confidence))\n",
        "                classIDs.append(classID)\n",
        "\n",
        "    idxs = cv2.dnn.NMSBoxes(boxes, confidences, conf_threshold, nms_threshold)\n",
        "\n",
        "    if len(idxs) > 0:\n",
        "        for i in idxs.flatten():\n",
        "            (x, y) = (boxes[i][0], boxes[i][1])\n",
        "            (w, h) = (boxes[i][2], boxes[i][3])\n",
        "            \n",
        "            if x < 0:\n",
        "                x = 0\n",
        "            if y < 0:\n",
        "                y = 0\n",
        "\n",
        "            text = \"{}: {:.4f}\".format(labels[classIDs[i]], confidences[i])\n",
        "            \n",
        "            if labels[classIDs[i]] in lista_objetos:\n",
        "                print(\"Identificado \" + text)\n",
        "                \n",
        "                # IMPLEMENTAR\n",
        "                item = {\"objeto\": None, \"coordenadas\": None}\n",
        "                \n",
        "                objetos.append(item)\n",
        "\n",
        "    return objetos"
      ],
      "execution_count": 0,
      "outputs": []
    },
    {
      "cell_type": "markdown",
      "metadata": {
        "id": "Id-2gTDV45Q5",
        "colab_type": "text"
      },
      "source": [
        "Vamos utilizar outra imagem de testes para validar o algoritmo."
      ]
    },
    {
      "cell_type": "code",
      "metadata": {
        "collapsed": true,
        "id": "T5-aJCcI45Q5",
        "colab_type": "code",
        "colab": {}
      },
      "source": [
        "imagem_inferencia = cv2.imread(\"testes/teste-9.png\")\n",
        "imagem_inferencia = cv2.cvtColor(imagem_inferencia, cv2.COLOR_BGR2RGB)"
      ],
      "execution_count": 0,
      "outputs": []
    },
    {
      "cell_type": "markdown",
      "metadata": {
        "id": "7J518vVa45Q6",
        "colab_type": "text"
      },
      "source": [
        "Na variável ```lista_objetos``` preecha com uma lista de Strings com os valores \"pessoa\" e \"gravata\" que são os objetos a serem identificados."
      ]
    },
    {
      "cell_type": "code",
      "metadata": {
        "collapsed": true,
        "id": "mbioncH245Q6",
        "colab_type": "code",
        "colab": {}
      },
      "source": [
        "# IMPLEMENTAR\n",
        "lista_objetos = [\"pessoa\", \"gravata\"]"
      ],
      "execution_count": 0,
      "outputs": []
    },
    {
      "cell_type": "markdown",
      "metadata": {
        "id": "dbaFJpPY45Q9",
        "colab_type": "text"
      },
      "source": [
        "Execute a função com a lista definida."
      ]
    },
    {
      "cell_type": "code",
      "metadata": {
        "collapsed": true,
        "id": "M0Ji94gD45Q9",
        "colab_type": "code",
        "colab": {}
      },
      "source": [
        "objetos = obter_objetos(imagem_inferencia, lista_objetos)"
      ],
      "execution_count": 0,
      "outputs": []
    },
    {
      "cell_type": "markdown",
      "metadata": {
        "id": "44Ykbv9Q45Q_",
        "colab_type": "text"
      },
      "source": [
        "Para nos certificamos que a identificação está correta, vamos desenhar um retângulo delimitador na imagem e verificar como foi a identificação.\n",
        "\n",
        "Neste caso vamos utilizar o parâmetro ```coordenadas``` do retorno da função para cada objeto identificado."
      ]
    },
    {
      "cell_type": "code",
      "metadata": {
        "collapsed": true,
        "id": "mrmbLeyX45RA",
        "colab_type": "code",
        "colab": {}
      },
      "source": [
        "imagem_anotada = imagem_inferencia.copy()\n",
        "for obj in objetos:\n",
        "    for (x,y,w,h) in obj[\"coordenadas\"]:\n",
        "        cv2.rectangle(imagem_anotada, (x,y), (x+w,y+h), (255,255,0), 2)"
      ],
      "execution_count": 0,
      "outputs": []
    },
    {
      "cell_type": "code",
      "metadata": {
        "collapsed": true,
        "id": "uVEz0sJg45RB",
        "colab_type": "code",
        "colab": {}
      },
      "source": [
        "plt.figure(figsize=(20,10))\n",
        "plt.imshow(imagem_anotada)\n",
        "plt.title(\"Imagem Inferida\")"
      ],
      "execution_count": 0,
      "outputs": []
    },
    {
      "cell_type": "markdown",
      "metadata": {
        "id": "qkUqC3w545RC",
        "colab_type": "text"
      },
      "source": [
        "Vamos dar uma olhada em 3 regiões de interesse detectadas.\n",
        "Lembrando que estas regiões são imagens, podemos renderizá-las diretamente no Pyplot."
      ]
    },
    {
      "cell_type": "code",
      "metadata": {
        "collapsed": true,
        "id": "O64vMM6D45RC",
        "colab_type": "code",
        "colab": {}
      },
      "source": [
        "plt.figure(figsize=(20,10))\n",
        "plt.imshow(objetos[0][\"objeto\"])\n",
        "plt.title(\"Região de interesse #1\")"
      ],
      "execution_count": 0,
      "outputs": []
    },
    {
      "cell_type": "code",
      "metadata": {
        "collapsed": true,
        "id": "4uv2x30Z45RD",
        "colab_type": "code",
        "colab": {}
      },
      "source": [
        "plt.figure(figsize=(20,10))\n",
        "plt.imshow(objetos[1][\"objeto\"])\n",
        "plt.title(\"Região de interesse #1\")"
      ],
      "execution_count": 0,
      "outputs": []
    },
    {
      "cell_type": "code",
      "metadata": {
        "collapsed": true,
        "id": "MTpizrdW45RF",
        "colab_type": "code",
        "colab": {}
      },
      "source": [
        "plt.figure(figsize=(20,10))\n",
        "plt.imshow(objetos[2][\"objeto\"])\n",
        "plt.title(\"Região de interesse #1\")"
      ],
      "execution_count": 0,
      "outputs": []
    },
    {
      "cell_type": "markdown",
      "metadata": {
        "id": "aLwmA7MJ45RH",
        "colab_type": "text"
      },
      "source": [
        "Perfeito, agora já estamos prontos para juntar todas as peças e começar nossa auditoria."
      ]
    },
    {
      "cell_type": "markdown",
      "metadata": {
        "id": "Z9K2KCPR45RH",
        "colab_type": "text"
      },
      "source": [
        "## 6. Auditoria automática em vídeo\n",
        "\n",
        "Esta é a parte final do projeto.\n",
        "Vamos fazer um checkpoint até aqui para ter certeza de que fizemos com sucesso os passos anteriores.\n",
        "\n",
        "* <input type=\"checkbox\" disabled checked> Modelo de detecção de idades treinado\n",
        "* <input type=\"checkbox\" disabled checked> Modelo de detecção de idades salvo\n",
        "* <input type=\"checkbox\" disabled checked> Modelo de detecção de idades carregado\n",
        "* <input type=\"checkbox\" disabled checked> Função de detecção de idades\n",
        "* <input type=\"checkbox\" disabled checked> Modelo de detecção de gênero treinado\n",
        "* <input type=\"checkbox\" disabled checked> Modelo de detecção de gênero salvo\n",
        "* <input type=\"checkbox\" disabled checked> Modelo de detecção de gênero carregado\n",
        "* <input type=\"checkbox\" disabled checked> Função de detecção de gênero\n",
        "* <input type=\"checkbox\" disabled checked> Função de padronização de imagens\n",
        "* <input type=\"checkbox\" disabled checked> Função de extração de faces\n",
        "* <input type=\"checkbox\" disabled checked> Função de extração de objetos\n",
        "\n",
        "O que precisamos identificar no vídeo de auditoria:\n",
        "\n",
        "* Homens com mais de 45 anos\n",
        "* Mulheres com menos de 45 anos\n",
        "* Objetos _computador portátil, celular, teclado, tv _ e _controle remoto_.\n",
        "\n",
        "Vamos começar definindo a lista de objetos."
      ]
    },
    {
      "cell_type": "code",
      "metadata": {
        "id": "nqnZQzI645RH",
        "colab_type": "code",
        "colab": {}
      },
      "source": [
        "lista_objetos = [None]"
      ],
      "execution_count": 0,
      "outputs": []
    },
    {
      "cell_type": "markdown",
      "metadata": {
        "id": "vnCNm6wq45RI",
        "colab_type": "text"
      },
      "source": [
        "Nesta parte vamos reunir tudo o que fizemos até aqui.\n",
        "O algoritmo irá abrir um vídeo e, frame a frame, analisar seu conteúdo.\n",
        "Após a instrução ```if is_capturing``` iremos implementar as verificações.\n",
        "\n",
        "A execução abaixo pode demorar, pois será analisado individualmente cada frame do vídeo.\n",
        "\n",
        "O que precisamos fazer:\n",
        "\n",
        "* ```IMPLEMENTAR 1```: obter as faces de uma imagem. Neste caso receberamos uma lista de rostos no padrão que já vimos, ou seja, uma lista de ```rosto``` e ```coordenadas```.\n",
        "\n",
        "* ```IMPLEMENTAR 2```: obter as a face de um item e padronizar. Lembre-se de utilizar a função de padronização que foi desenvolvida anteriormente, que tem por finalidade ajustar o tamanho da imagem e também normalizá-la.\n",
        "\n",
        "* ```IMPLEMENTAR 3```: executar as funções de identificar a idade e gênero para a tomada de decisões de coleta de evidências.\n",
        "\n",
        "* ```IMPLEMENTAR 4```: criar as regras de armazenamento de evidências para pessoas. Consulte as regras no início do projeto sobre quais os gêneros e idades de interesse. As regiões de interesse nesse caso, os rostos, deverão ser salvos individualmente na pasta ```resultado/homem``` e ```resultado/mulher```.\n",
        "\n",
        "* ```IMPLEMENTAR 5```: criar as regras de armazenamento de evidências para objetos. As regiões de interesse nesse caso, os objetos, deverão ser salvos individualmente na pasta ```resultado/objetos```."
      ]
    },
    {
      "cell_type": "code",
      "metadata": {
        "id": "Wl2aQPQj45RJ",
        "colab_type": "code",
        "colab": {}
      },
      "source": [
        "#cam.release()\n",
        "cam = cv2.VideoCapture(\"videos/video-1.avi\")\n",
        "contador = 0 \n",
        "try:\n",
        "    while(True):\n",
        "        contador += 1\n",
        "        is_capturing, imagem = cam.read()\n",
        "        \n",
        "        if is_capturing:\n",
        "            \n",
        "            # IMPLEMENTAR 1\n",
        "            # Obter Faces\n",
        "            faces = None\n",
        "            \n",
        "            for idx, face in enumerate(faces):\n",
        "                print(\"Encontrado \" + str(len(faces)) + \" rostos...\")\n",
        "                \n",
        "                # IMPLEMENTAR 2\n",
        "                # Padronizar a imagem do rosto (ROI)\n",
        "                # Obtenha a imagem do rosto da variável face e armazene em imagem_rosto\n",
        "                # Depois utilize a função padronizarROI, com a variável imagem_rosto para obter\n",
        "                # o rosto padronizado e armazenar em rosto_padronizado\n",
        "                \n",
        "                imagem_rosto = None\n",
        "                rosto_padronizado = None\n",
        "                \n",
        "                # IMPLEMENTAR 3\n",
        "                # Chame as funções para predizer gênero e idade com a imagem padronizada do rosto\n",
        "                \n",
        "                genero = None\n",
        "                idade = None\n",
        "                \n",
        "                print(\"Gênero: \" + genero + \", idade: \" + str(idade))\n",
        "                \n",
        "                # IMPLEMENTAR 4\n",
        "                # Estabeleça as regras de auditoria e salve as evidências (imagens) no diretório resultados\n",
        "                # de acordo com o identificação (resultado/homem, resultado/mulher)\n",
        "                # Cuidado para não sobrescrever as imagens\n",
        "                \n",
        "                if (True):\n",
        "                 \n",
        "                    \n",
        "            objetos = obter_objetos(imagem, lista_objetos)\n",
        "\n",
        "            # IMPLEMENTAR 5\n",
        "            # Estabeleça as regras de auditoria e salve as evidências (imagens) no diretório resultados\n",
        "            # de acordo com o identificação (resultado/objetos)\n",
        "            # Cuidado para não sobrescrever as imagens\n",
        "            \n",
        "            if (True):\n",
        "                    \n",
        "        else:\n",
        "            break\n",
        "        \n",
        "except KeyboardInterrupt:\n",
        "    cam.release()\n",
        "    print(\"Interrompido\")"
      ],
      "execution_count": 0,
      "outputs": []
    },
    {
      "cell_type": "markdown",
      "metadata": {
        "collapsed": true,
        "id": "dcljsuYL45RK",
        "colab_type": "text"
      },
      "source": [
        "> **Critério de sucesso:** identificação de 180 imagens de homens. Como uma mesma pessoa aparece em diferentes frames é comum repetir as imagens.\n",
        "\n",
        "> **Critério de sucesso:** identificação de 190 imagens de mulheres. Como uma mesma pessoa aparece em diferentes frames é comum repetir as imagens.\n",
        "\n",
        "> **Critério de sucesso:** identificação de 680 imagens de objetos selecionados. Como um mesmo objeto pode aparecer em diferentes frames é comum repetir as imagens"
      ]
    },
    {
      "cell_type": "markdown",
      "metadata": {
        "id": "qzIiWLWB45RK",
        "colab_type": "text"
      },
      "source": [
        "## 7. Conclusões finais\n",
        "\n",
        "Com base nesta jornada de construção de modelos, análises de regiões de interesse e processamento de vídeo, comente quais seriam os principais pontos de melhoria para alcançar resultados melhores em todas as etapas."
      ]
    },
    {
      "cell_type": "markdown",
      "metadata": {
        "id": "oVPhK36f45RK",
        "colab_type": "text"
      },
      "source": [
        "**Resposta: **"
      ]
    }
  ]
}